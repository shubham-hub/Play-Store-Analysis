{
  "nbformat": 4,
  "nbformat_minor": 0,
  "metadata": {
    "colab": {
      "name": "Capstone_Project_1 - Shubham_Chavhan.ipynb",
      "provenance": [],
      "collapsed_sections": [],
      "authorship_tag": "ABX9TyOrNWG20LPvfVzy7CuSYBUw",
      "include_colab_link": true
    },
    "kernelspec": {
      "name": "python3",
      "display_name": "Python 3"
    },
    "language_info": {
      "name": "python"
    }
  },
  "cells": [
    {
      "cell_type": "markdown",
      "metadata": {
        "id": "view-in-github",
        "colab_type": "text"
      },
      "source": [
        "<a href=\"https://colab.research.google.com/github/shubham-hub/Play-Store-Analysis/blob/main/Capstone_Project_1_Shubham_Chavhan.ipynb\" target=\"_parent\"><img src=\"https://colab.research.google.com/assets/colab-badge.svg\" alt=\"Open In Colab\"/></a>"
      ]
    },
    {
      "cell_type": "markdown",
      "source": [
        "## <b> The Play Store apps data has enormous potential to drive app-making businesses to success. Actionable insights can be drawn for developers to work on and capture the Android market. </b>\n",
        "\n",
        "## <b> Each app (row) has values for catergory, rating, size, and more. Another dataset contains customer reviews of the android apps.</b>\n",
        "\n",
        "## <b> Explore and analyze the data to discover key factors responsible for app engagement and success. </b>"
      ],
      "metadata": {
        "id": "gplbdQBfuABf"
      }
    },
    {
      "cell_type": "markdown",
      "source": [
        "## Import the required libraries"
      ],
      "metadata": {
        "id": "y6vytpxHuQui"
      }
    },
    {
      "cell_type": "code",
      "metadata": {
        "id": "cBNfPsEGWwOt"
      },
      "source": [
        "import pandas as pd\n",
        "import numpy as np\n",
        "import seaborn as sns\n",
        "import matplotlib.pyplot as plt\n",
        "from datetime import datetime\n",
        "from datetime import date"
      ],
      "execution_count": 2,
      "outputs": []
    },
    {
      "cell_type": "markdown",
      "source": [
        "## **Mount Google Drive**\n"
      ],
      "metadata": {
        "id": "eyGVnvLUux_u"
      }
    },
    {
      "cell_type": "code",
      "metadata": {
        "colab": {
          "base_uri": "https://localhost:8080/"
        },
        "id": "Hv2IA-DccjRI",
        "outputId": "2eee707d-c577-48f3-e3b5-118146ae80a1"
      },
      "source": [
        "from google.colab import drive\n",
        "drive.mount('/content/drive')"
      ],
      "execution_count": 3,
      "outputs": [
        {
          "output_type": "stream",
          "name": "stdout",
          "text": [
            "Mounted at /content/drive\n"
          ]
        }
      ]
    },
    {
      "cell_type": "markdown",
      "source": [
        "###**Getting data from CSV file using Pandas**\n"
      ],
      "metadata": {
        "id": "KGTePmfQvDGV"
      }
    },
    {
      "cell_type": "code",
      "metadata": {
        "id": "jbYVgYFfcrM5"
      },
      "source": [
        "#Creating dataframes for both playstore data as well as user reviews data\n",
        "df_play_store = pd.read_csv('/content/drive/MyDrive/Play_Store_Project/Play Store Data.csv')\n",
        "df_user_review = pd.read_csv('/content/drive/MyDrive/Play_Store_Project/User Reviews.csv')"
      ],
      "execution_count": 4,
      "outputs": []
    },
    {
      "cell_type": "markdown",
      "source": [
        "### We have two sets of data. One contains data of Play Store apps while the another dataset contains customer reviews of the android apps.We stored them in variables **'df_play_store'** and **'df_user_review'** respectively.\n"
      ],
      "metadata": {
        "id": "7hE2CgH-vS4S"
      }
    },
    {
      "cell_type": "code",
      "metadata": {
        "colab": {
          "base_uri": "https://localhost:8080/",
          "height": 293
        },
        "id": "kLJPw_r8ehTV",
        "outputId": "acbecd8c-75b8-4dcf-8ca1-51d123c0d130"
      },
      "source": [
        "df_play_store.head()"
      ],
      "execution_count": 5,
      "outputs": [
        {
          "output_type": "execute_result",
          "data": {
            "text/html": [
              "<div>\n",
              "<style scoped>\n",
              "    .dataframe tbody tr th:only-of-type {\n",
              "        vertical-align: middle;\n",
              "    }\n",
              "\n",
              "    .dataframe tbody tr th {\n",
              "        vertical-align: top;\n",
              "    }\n",
              "\n",
              "    .dataframe thead th {\n",
              "        text-align: right;\n",
              "    }\n",
              "</style>\n",
              "<table border=\"1\" class=\"dataframe\">\n",
              "  <thead>\n",
              "    <tr style=\"text-align: right;\">\n",
              "      <th></th>\n",
              "      <th>App</th>\n",
              "      <th>Category</th>\n",
              "      <th>Rating</th>\n",
              "      <th>Reviews</th>\n",
              "      <th>Size</th>\n",
              "      <th>Installs</th>\n",
              "      <th>Type</th>\n",
              "      <th>Price</th>\n",
              "      <th>Content Rating</th>\n",
              "      <th>Genres</th>\n",
              "      <th>Last Updated</th>\n",
              "      <th>Current Ver</th>\n",
              "      <th>Android Ver</th>\n",
              "    </tr>\n",
              "  </thead>\n",
              "  <tbody>\n",
              "    <tr>\n",
              "      <th>0</th>\n",
              "      <td>Photo Editor &amp; Candy Camera &amp; Grid &amp; ScrapBook</td>\n",
              "      <td>ART_AND_DESIGN</td>\n",
              "      <td>4.1</td>\n",
              "      <td>159</td>\n",
              "      <td>19M</td>\n",
              "      <td>10,000+</td>\n",
              "      <td>Free</td>\n",
              "      <td>0</td>\n",
              "      <td>Everyone</td>\n",
              "      <td>Art &amp; Design</td>\n",
              "      <td>January 7, 2018</td>\n",
              "      <td>1.0.0</td>\n",
              "      <td>4.0.3 and up</td>\n",
              "    </tr>\n",
              "    <tr>\n",
              "      <th>1</th>\n",
              "      <td>Coloring book moana</td>\n",
              "      <td>ART_AND_DESIGN</td>\n",
              "      <td>3.9</td>\n",
              "      <td>967</td>\n",
              "      <td>14M</td>\n",
              "      <td>500,000+</td>\n",
              "      <td>Free</td>\n",
              "      <td>0</td>\n",
              "      <td>Everyone</td>\n",
              "      <td>Art &amp; Design;Pretend Play</td>\n",
              "      <td>January 15, 2018</td>\n",
              "      <td>2.0.0</td>\n",
              "      <td>4.0.3 and up</td>\n",
              "    </tr>\n",
              "    <tr>\n",
              "      <th>2</th>\n",
              "      <td>U Launcher Lite – FREE Live Cool Themes, Hide ...</td>\n",
              "      <td>ART_AND_DESIGN</td>\n",
              "      <td>4.7</td>\n",
              "      <td>87510</td>\n",
              "      <td>8.7M</td>\n",
              "      <td>5,000,000+</td>\n",
              "      <td>Free</td>\n",
              "      <td>0</td>\n",
              "      <td>Everyone</td>\n",
              "      <td>Art &amp; Design</td>\n",
              "      <td>August 1, 2018</td>\n",
              "      <td>1.2.4</td>\n",
              "      <td>4.0.3 and up</td>\n",
              "    </tr>\n",
              "    <tr>\n",
              "      <th>3</th>\n",
              "      <td>Sketch - Draw &amp; Paint</td>\n",
              "      <td>ART_AND_DESIGN</td>\n",
              "      <td>4.5</td>\n",
              "      <td>215644</td>\n",
              "      <td>25M</td>\n",
              "      <td>50,000,000+</td>\n",
              "      <td>Free</td>\n",
              "      <td>0</td>\n",
              "      <td>Teen</td>\n",
              "      <td>Art &amp; Design</td>\n",
              "      <td>June 8, 2018</td>\n",
              "      <td>Varies with device</td>\n",
              "      <td>4.2 and up</td>\n",
              "    </tr>\n",
              "    <tr>\n",
              "      <th>4</th>\n",
              "      <td>Pixel Draw - Number Art Coloring Book</td>\n",
              "      <td>ART_AND_DESIGN</td>\n",
              "      <td>4.3</td>\n",
              "      <td>967</td>\n",
              "      <td>2.8M</td>\n",
              "      <td>100,000+</td>\n",
              "      <td>Free</td>\n",
              "      <td>0</td>\n",
              "      <td>Everyone</td>\n",
              "      <td>Art &amp; Design;Creativity</td>\n",
              "      <td>June 20, 2018</td>\n",
              "      <td>1.1</td>\n",
              "      <td>4.4 and up</td>\n",
              "    </tr>\n",
              "  </tbody>\n",
              "</table>\n",
              "</div>"
            ],
            "text/plain": [
              "                                                 App  ...   Android Ver\n",
              "0     Photo Editor & Candy Camera & Grid & ScrapBook  ...  4.0.3 and up\n",
              "1                                Coloring book moana  ...  4.0.3 and up\n",
              "2  U Launcher Lite – FREE Live Cool Themes, Hide ...  ...  4.0.3 and up\n",
              "3                              Sketch - Draw & Paint  ...    4.2 and up\n",
              "4              Pixel Draw - Number Art Coloring Book  ...    4.4 and up\n",
              "\n",
              "[5 rows x 13 columns]"
            ]
          },
          "metadata": {},
          "execution_count": 5
        }
      ]
    },
    {
      "cell_type": "markdown",
      "source": [
        "\n",
        "\n",
        "1. ### Playstore dataset contains information on apps of different catagories with their ratings, size, number of installs, type and lot more like we normally see in our play store. Almost similar to data that are essential for success of any app.\n",
        "2. ### From this we can come to a point that primary measure check success of any app is the number of installs.While factors affecting success like reviews, rating and other are important.\n",
        "\n",
        "### **Let's check basic information of play store data for different apps**"
      ],
      "metadata": {
        "id": "tmWtv1V51k8H"
      }
    },
    {
      "cell_type": "code",
      "metadata": {
        "colab": {
          "base_uri": "https://localhost:8080/"
        },
        "id": "CEKK0QItevq5",
        "outputId": "dee67c17-784b-4e14-e8c0-1bf39de0fd9b"
      },
      "source": [
        "df_play_store.info()"
      ],
      "execution_count": 6,
      "outputs": [
        {
          "output_type": "stream",
          "name": "stdout",
          "text": [
            "<class 'pandas.core.frame.DataFrame'>\n",
            "RangeIndex: 10841 entries, 0 to 10840\n",
            "Data columns (total 13 columns):\n",
            " #   Column          Non-Null Count  Dtype  \n",
            "---  ------          --------------  -----  \n",
            " 0   App             10841 non-null  object \n",
            " 1   Category        10841 non-null  object \n",
            " 2   Rating          9367 non-null   float64\n",
            " 3   Reviews         10841 non-null  object \n",
            " 4   Size            10841 non-null  object \n",
            " 5   Installs        10841 non-null  object \n",
            " 6   Type            10840 non-null  object \n",
            " 7   Price           10841 non-null  object \n",
            " 8   Content Rating  10840 non-null  object \n",
            " 9   Genres          10841 non-null  object \n",
            " 10  Last Updated    10841 non-null  object \n",
            " 11  Current Ver     10833 non-null  object \n",
            " 12  Android Ver     10838 non-null  object \n",
            "dtypes: float64(1), object(12)\n",
            "memory usage: 1.1+ MB\n"
          ]
        }
      ]
    },
    {
      "cell_type": "markdown",
      "source": [
        "\n",
        "###Rating column contains mostly null values. Will have to deal with those and other columns too.\n",
        "\n",
        "### **Let's handle duplicates present in dataset**"
      ],
      "metadata": {
        "id": "ilS63KSZw-jG"
      }
    },
    {
      "cell_type": "code",
      "metadata": {
        "id": "eW6fL4WQiYtv"
      },
      "source": [
        "#this should be add \n",
        "#df_play_store = playstore_df.reset_index()"
      ],
      "execution_count": 7,
      "outputs": []
    },
    {
      "cell_type": "code",
      "source": [
        "df_play_store.head()"
      ],
      "metadata": {
        "id": "L-Di-3m53qeZ",
        "outputId": "28f7a807-5662-4601-e81a-21eb7a0ab7d3",
        "colab": {
          "base_uri": "https://localhost:8080/",
          "height": 293
        }
      },
      "execution_count": 8,
      "outputs": [
        {
          "output_type": "execute_result",
          "data": {
            "text/html": [
              "<div>\n",
              "<style scoped>\n",
              "    .dataframe tbody tr th:only-of-type {\n",
              "        vertical-align: middle;\n",
              "    }\n",
              "\n",
              "    .dataframe tbody tr th {\n",
              "        vertical-align: top;\n",
              "    }\n",
              "\n",
              "    .dataframe thead th {\n",
              "        text-align: right;\n",
              "    }\n",
              "</style>\n",
              "<table border=\"1\" class=\"dataframe\">\n",
              "  <thead>\n",
              "    <tr style=\"text-align: right;\">\n",
              "      <th></th>\n",
              "      <th>App</th>\n",
              "      <th>Category</th>\n",
              "      <th>Rating</th>\n",
              "      <th>Reviews</th>\n",
              "      <th>Size</th>\n",
              "      <th>Installs</th>\n",
              "      <th>Type</th>\n",
              "      <th>Price</th>\n",
              "      <th>Content Rating</th>\n",
              "      <th>Genres</th>\n",
              "      <th>Last Updated</th>\n",
              "      <th>Current Ver</th>\n",
              "      <th>Android Ver</th>\n",
              "    </tr>\n",
              "  </thead>\n",
              "  <tbody>\n",
              "    <tr>\n",
              "      <th>0</th>\n",
              "      <td>Photo Editor &amp; Candy Camera &amp; Grid &amp; ScrapBook</td>\n",
              "      <td>ART_AND_DESIGN</td>\n",
              "      <td>4.1</td>\n",
              "      <td>159</td>\n",
              "      <td>19M</td>\n",
              "      <td>10,000+</td>\n",
              "      <td>Free</td>\n",
              "      <td>0</td>\n",
              "      <td>Everyone</td>\n",
              "      <td>Art &amp; Design</td>\n",
              "      <td>January 7, 2018</td>\n",
              "      <td>1.0.0</td>\n",
              "      <td>4.0.3 and up</td>\n",
              "    </tr>\n",
              "    <tr>\n",
              "      <th>1</th>\n",
              "      <td>Coloring book moana</td>\n",
              "      <td>ART_AND_DESIGN</td>\n",
              "      <td>3.9</td>\n",
              "      <td>967</td>\n",
              "      <td>14M</td>\n",
              "      <td>500,000+</td>\n",
              "      <td>Free</td>\n",
              "      <td>0</td>\n",
              "      <td>Everyone</td>\n",
              "      <td>Art &amp; Design;Pretend Play</td>\n",
              "      <td>January 15, 2018</td>\n",
              "      <td>2.0.0</td>\n",
              "      <td>4.0.3 and up</td>\n",
              "    </tr>\n",
              "    <tr>\n",
              "      <th>2</th>\n",
              "      <td>U Launcher Lite – FREE Live Cool Themes, Hide ...</td>\n",
              "      <td>ART_AND_DESIGN</td>\n",
              "      <td>4.7</td>\n",
              "      <td>87510</td>\n",
              "      <td>8.7M</td>\n",
              "      <td>5,000,000+</td>\n",
              "      <td>Free</td>\n",
              "      <td>0</td>\n",
              "      <td>Everyone</td>\n",
              "      <td>Art &amp; Design</td>\n",
              "      <td>August 1, 2018</td>\n",
              "      <td>1.2.4</td>\n",
              "      <td>4.0.3 and up</td>\n",
              "    </tr>\n",
              "    <tr>\n",
              "      <th>3</th>\n",
              "      <td>Sketch - Draw &amp; Paint</td>\n",
              "      <td>ART_AND_DESIGN</td>\n",
              "      <td>4.5</td>\n",
              "      <td>215644</td>\n",
              "      <td>25M</td>\n",
              "      <td>50,000,000+</td>\n",
              "      <td>Free</td>\n",
              "      <td>0</td>\n",
              "      <td>Teen</td>\n",
              "      <td>Art &amp; Design</td>\n",
              "      <td>June 8, 2018</td>\n",
              "      <td>Varies with device</td>\n",
              "      <td>4.2 and up</td>\n",
              "    </tr>\n",
              "    <tr>\n",
              "      <th>4</th>\n",
              "      <td>Pixel Draw - Number Art Coloring Book</td>\n",
              "      <td>ART_AND_DESIGN</td>\n",
              "      <td>4.3</td>\n",
              "      <td>967</td>\n",
              "      <td>2.8M</td>\n",
              "      <td>100,000+</td>\n",
              "      <td>Free</td>\n",
              "      <td>0</td>\n",
              "      <td>Everyone</td>\n",
              "      <td>Art &amp; Design;Creativity</td>\n",
              "      <td>June 20, 2018</td>\n",
              "      <td>1.1</td>\n",
              "      <td>4.4 and up</td>\n",
              "    </tr>\n",
              "  </tbody>\n",
              "</table>\n",
              "</div>"
            ],
            "text/plain": [
              "                                                 App  ...   Android Ver\n",
              "0     Photo Editor & Candy Camera & Grid & ScrapBook  ...  4.0.3 and up\n",
              "1                                Coloring book moana  ...  4.0.3 and up\n",
              "2  U Launcher Lite – FREE Live Cool Themes, Hide ...  ...  4.0.3 and up\n",
              "3                              Sketch - Draw & Paint  ...    4.2 and up\n",
              "4              Pixel Draw - Number Art Coloring Book  ...    4.4 and up\n",
              "\n",
              "[5 rows x 13 columns]"
            ]
          },
          "metadata": {},
          "execution_count": 8
        }
      ]
    },
    {
      "cell_type": "code",
      "source": [
        "# Check for duplicate rows \n",
        "df_play_store[df_play_store.duplicated()].count()"
      ],
      "metadata": {
        "colab": {
          "base_uri": "https://localhost:8080/"
        },
        "id": "y1td_1EpHNgY",
        "outputId": "60eec8a4-2a29-440d-a8f4-94098b00883e"
      },
      "execution_count": 9,
      "outputs": [
        {
          "output_type": "execute_result",
          "data": {
            "text/plain": [
              "App               483\n",
              "Category          483\n",
              "Rating            474\n",
              "Reviews           483\n",
              "Size              483\n",
              "Installs          483\n",
              "Type              483\n",
              "Price             483\n",
              "Content Rating    483\n",
              "Genres            483\n",
              "Last Updated      483\n",
              "Current Ver       483\n",
              "Android Ver       483\n",
              "dtype: int64"
            ]
          },
          "metadata": {},
          "execution_count": 9
        }
      ]
    },
    {
      "cell_type": "code",
      "metadata": {
        "colab": {
          "base_uri": "https://localhost:8080/"
        },
        "id": "dASvPwU0041F",
        "outputId": "ae7b25d7-4c44-4650-ac0c-6cf91c6d583b"
      },
      "source": [
        "df_play_store['App'].value_counts()"
      ],
      "execution_count": 10,
      "outputs": [
        {
          "output_type": "execute_result",
          "data": {
            "text/plain": [
              "ROBLOX                                               9\n",
              "CBS Sports App - Scores, News, Stats & Watch Live    8\n",
              "8 Ball Pool                                          7\n",
              "Duolingo: Learn Languages Free                       7\n",
              "ESPN                                                 7\n",
              "                                                    ..\n",
              "HTC Sense Input-BG                                   1\n",
              "Pick Your Part Garage                                1\n",
              "Frequencies Free                                     1\n",
              "Burrito Bash – We Bare Bears                         1\n",
              "WIZARD Card Game                                     1\n",
              "Name: App, Length: 9660, dtype: int64"
            ]
          },
          "metadata": {},
          "execution_count": 10
        }
      ]
    },
    {
      "cell_type": "markdown",
      "source": [
        "### From the above value counts by app name, we can see there are duplicate rows for a some applications.\n",
        "### Now checking if those rows for same app is identical or not."
      ],
      "metadata": {
        "id": "8PGHIT9NIaXx"
      }
    },
    {
      "cell_type": "code",
      "metadata": {
        "colab": {
          "base_uri": "https://localhost:8080/",
          "height": 269
        },
        "id": "9m7pC7oJl0XL",
        "outputId": "7294eeb5-e154-4973-fd14-635e715d7ae5"
      },
      "source": [
        "# Checking if those rows for same app is identical or not\n",
        "df_play_store[df_play_store['App']=='8 Ball Pool']"
      ],
      "execution_count": 11,
      "outputs": [
        {
          "output_type": "execute_result",
          "data": {
            "text/html": [
              "<div>\n",
              "<style scoped>\n",
              "    .dataframe tbody tr th:only-of-type {\n",
              "        vertical-align: middle;\n",
              "    }\n",
              "\n",
              "    .dataframe tbody tr th {\n",
              "        vertical-align: top;\n",
              "    }\n",
              "\n",
              "    .dataframe thead th {\n",
              "        text-align: right;\n",
              "    }\n",
              "</style>\n",
              "<table border=\"1\" class=\"dataframe\">\n",
              "  <thead>\n",
              "    <tr style=\"text-align: right;\">\n",
              "      <th></th>\n",
              "      <th>App</th>\n",
              "      <th>Category</th>\n",
              "      <th>Rating</th>\n",
              "      <th>Reviews</th>\n",
              "      <th>Size</th>\n",
              "      <th>Installs</th>\n",
              "      <th>Type</th>\n",
              "      <th>Price</th>\n",
              "      <th>Content Rating</th>\n",
              "      <th>Genres</th>\n",
              "      <th>Last Updated</th>\n",
              "      <th>Current Ver</th>\n",
              "      <th>Android Ver</th>\n",
              "    </tr>\n",
              "  </thead>\n",
              "  <tbody>\n",
              "    <tr>\n",
              "      <th>1675</th>\n",
              "      <td>8 Ball Pool</td>\n",
              "      <td>GAME</td>\n",
              "      <td>4.5</td>\n",
              "      <td>14198297</td>\n",
              "      <td>52M</td>\n",
              "      <td>100,000,000+</td>\n",
              "      <td>Free</td>\n",
              "      <td>0</td>\n",
              "      <td>Everyone</td>\n",
              "      <td>Sports</td>\n",
              "      <td>July 31, 2018</td>\n",
              "      <td>4.0.0</td>\n",
              "      <td>4.0.3 and up</td>\n",
              "    </tr>\n",
              "    <tr>\n",
              "      <th>1703</th>\n",
              "      <td>8 Ball Pool</td>\n",
              "      <td>GAME</td>\n",
              "      <td>4.5</td>\n",
              "      <td>14198602</td>\n",
              "      <td>52M</td>\n",
              "      <td>100,000,000+</td>\n",
              "      <td>Free</td>\n",
              "      <td>0</td>\n",
              "      <td>Everyone</td>\n",
              "      <td>Sports</td>\n",
              "      <td>July 31, 2018</td>\n",
              "      <td>4.0.0</td>\n",
              "      <td>4.0.3 and up</td>\n",
              "    </tr>\n",
              "    <tr>\n",
              "      <th>1755</th>\n",
              "      <td>8 Ball Pool</td>\n",
              "      <td>GAME</td>\n",
              "      <td>4.5</td>\n",
              "      <td>14200344</td>\n",
              "      <td>52M</td>\n",
              "      <td>100,000,000+</td>\n",
              "      <td>Free</td>\n",
              "      <td>0</td>\n",
              "      <td>Everyone</td>\n",
              "      <td>Sports</td>\n",
              "      <td>July 31, 2018</td>\n",
              "      <td>4.0.0</td>\n",
              "      <td>4.0.3 and up</td>\n",
              "    </tr>\n",
              "    <tr>\n",
              "      <th>1844</th>\n",
              "      <td>8 Ball Pool</td>\n",
              "      <td>GAME</td>\n",
              "      <td>4.5</td>\n",
              "      <td>14200550</td>\n",
              "      <td>52M</td>\n",
              "      <td>100,000,000+</td>\n",
              "      <td>Free</td>\n",
              "      <td>0</td>\n",
              "      <td>Everyone</td>\n",
              "      <td>Sports</td>\n",
              "      <td>July 31, 2018</td>\n",
              "      <td>4.0.0</td>\n",
              "      <td>4.0.3 and up</td>\n",
              "    </tr>\n",
              "    <tr>\n",
              "      <th>1871</th>\n",
              "      <td>8 Ball Pool</td>\n",
              "      <td>GAME</td>\n",
              "      <td>4.5</td>\n",
              "      <td>14201891</td>\n",
              "      <td>52M</td>\n",
              "      <td>100,000,000+</td>\n",
              "      <td>Free</td>\n",
              "      <td>0</td>\n",
              "      <td>Everyone</td>\n",
              "      <td>Sports</td>\n",
              "      <td>July 31, 2018</td>\n",
              "      <td>4.0.0</td>\n",
              "      <td>4.0.3 and up</td>\n",
              "    </tr>\n",
              "    <tr>\n",
              "      <th>1970</th>\n",
              "      <td>8 Ball Pool</td>\n",
              "      <td>GAME</td>\n",
              "      <td>4.5</td>\n",
              "      <td>14201604</td>\n",
              "      <td>52M</td>\n",
              "      <td>100,000,000+</td>\n",
              "      <td>Free</td>\n",
              "      <td>0</td>\n",
              "      <td>Everyone</td>\n",
              "      <td>Sports</td>\n",
              "      <td>July 31, 2018</td>\n",
              "      <td>4.0.0</td>\n",
              "      <td>4.0.3 and up</td>\n",
              "    </tr>\n",
              "    <tr>\n",
              "      <th>3953</th>\n",
              "      <td>8 Ball Pool</td>\n",
              "      <td>SPORTS</td>\n",
              "      <td>4.5</td>\n",
              "      <td>14184910</td>\n",
              "      <td>52M</td>\n",
              "      <td>100,000,000+</td>\n",
              "      <td>Free</td>\n",
              "      <td>0</td>\n",
              "      <td>Everyone</td>\n",
              "      <td>Sports</td>\n",
              "      <td>July 31, 2018</td>\n",
              "      <td>4.0.0</td>\n",
              "      <td>4.0.3 and up</td>\n",
              "    </tr>\n",
              "  </tbody>\n",
              "</table>\n",
              "</div>"
            ],
            "text/plain": [
              "              App Category  Rating  ...   Last Updated Current Ver   Android Ver\n",
              "1675  8 Ball Pool     GAME     4.5  ...  July 31, 2018       4.0.0  4.0.3 and up\n",
              "1703  8 Ball Pool     GAME     4.5  ...  July 31, 2018       4.0.0  4.0.3 and up\n",
              "1755  8 Ball Pool     GAME     4.5  ...  July 31, 2018       4.0.0  4.0.3 and up\n",
              "1844  8 Ball Pool     GAME     4.5  ...  July 31, 2018       4.0.0  4.0.3 and up\n",
              "1871  8 Ball Pool     GAME     4.5  ...  July 31, 2018       4.0.0  4.0.3 and up\n",
              "1970  8 Ball Pool     GAME     4.5  ...  July 31, 2018       4.0.0  4.0.3 and up\n",
              "3953  8 Ball Pool   SPORTS     4.5  ...  July 31, 2018       4.0.0  4.0.3 and up\n",
              "\n",
              "[7 rows x 13 columns]"
            ]
          },
          "metadata": {},
          "execution_count": 11
        }
      ]
    },
    {
      "cell_type": "markdown",
      "source": [
        "### From the above observation we can see there might be duplicate rows present for same app. For different category of same app there are different number of reviews. \n",
        "\n",
        "### Keeping the Highest number of review and discarding other rows."
      ],
      "metadata": {
        "id": "o4VTOZTHI4jv"
      }
    },
    {
      "cell_type": "code",
      "source": [
        "df_play_store = df_play_store.sort_values('Reviews', ascending=False).drop_duplicates(['App', 'Category'])"
      ],
      "metadata": {
        "id": "YSWvMHKGrfJo"
      },
      "execution_count": 12,
      "outputs": []
    },
    {
      "cell_type": "code",
      "metadata": {
        "colab": {
          "base_uri": "https://localhost:8080/",
          "height": 112
        },
        "id": "DgR1F0PQ2tJ-",
        "outputId": "64e2739a-5a74-48b8-eaf1-8c0e1af9faec"
      },
      "source": [
        "df_play_store[df_play_store['App']=='8 Ball Pool']"
      ],
      "execution_count": 13,
      "outputs": [
        {
          "output_type": "execute_result",
          "data": {
            "text/html": [
              "<div>\n",
              "<style scoped>\n",
              "    .dataframe tbody tr th:only-of-type {\n",
              "        vertical-align: middle;\n",
              "    }\n",
              "\n",
              "    .dataframe tbody tr th {\n",
              "        vertical-align: top;\n",
              "    }\n",
              "\n",
              "    .dataframe thead th {\n",
              "        text-align: right;\n",
              "    }\n",
              "</style>\n",
              "<table border=\"1\" class=\"dataframe\">\n",
              "  <thead>\n",
              "    <tr style=\"text-align: right;\">\n",
              "      <th></th>\n",
              "      <th>App</th>\n",
              "      <th>Category</th>\n",
              "      <th>Rating</th>\n",
              "      <th>Reviews</th>\n",
              "      <th>Size</th>\n",
              "      <th>Installs</th>\n",
              "      <th>Type</th>\n",
              "      <th>Price</th>\n",
              "      <th>Content Rating</th>\n",
              "      <th>Genres</th>\n",
              "      <th>Last Updated</th>\n",
              "      <th>Current Ver</th>\n",
              "      <th>Android Ver</th>\n",
              "    </tr>\n",
              "  </thead>\n",
              "  <tbody>\n",
              "    <tr>\n",
              "      <th>1871</th>\n",
              "      <td>8 Ball Pool</td>\n",
              "      <td>GAME</td>\n",
              "      <td>4.5</td>\n",
              "      <td>14201891</td>\n",
              "      <td>52M</td>\n",
              "      <td>100,000,000+</td>\n",
              "      <td>Free</td>\n",
              "      <td>0</td>\n",
              "      <td>Everyone</td>\n",
              "      <td>Sports</td>\n",
              "      <td>July 31, 2018</td>\n",
              "      <td>4.0.0</td>\n",
              "      <td>4.0.3 and up</td>\n",
              "    </tr>\n",
              "    <tr>\n",
              "      <th>3953</th>\n",
              "      <td>8 Ball Pool</td>\n",
              "      <td>SPORTS</td>\n",
              "      <td>4.5</td>\n",
              "      <td>14184910</td>\n",
              "      <td>52M</td>\n",
              "      <td>100,000,000+</td>\n",
              "      <td>Free</td>\n",
              "      <td>0</td>\n",
              "      <td>Everyone</td>\n",
              "      <td>Sports</td>\n",
              "      <td>July 31, 2018</td>\n",
              "      <td>4.0.0</td>\n",
              "      <td>4.0.3 and up</td>\n",
              "    </tr>\n",
              "  </tbody>\n",
              "</table>\n",
              "</div>"
            ],
            "text/plain": [
              "              App Category  Rating  ...   Last Updated Current Ver   Android Ver\n",
              "1871  8 Ball Pool     GAME     4.5  ...  July 31, 2018       4.0.0  4.0.3 and up\n",
              "3953  8 Ball Pool   SPORTS     4.5  ...  July 31, 2018       4.0.0  4.0.3 and up\n",
              "\n",
              "[2 rows x 13 columns]"
            ]
          },
          "metadata": {},
          "execution_count": 13
        }
      ]
    },
    {
      "cell_type": "code",
      "metadata": {
        "colab": {
          "base_uri": "https://localhost:8080/"
        },
        "id": "fiqNc0lTWtqW",
        "outputId": "06949731-385a-4602-9021-848b97b5e272"
      },
      "source": [
        "# Check for duplicate rows\n",
        "df_play_store[df_play_store.duplicated()].count()"
      ],
      "execution_count": 14,
      "outputs": [
        {
          "output_type": "execute_result",
          "data": {
            "text/plain": [
              "App               0\n",
              "Category          0\n",
              "Rating            0\n",
              "Reviews           0\n",
              "Size              0\n",
              "Installs          0\n",
              "Type              0\n",
              "Price             0\n",
              "Content Rating    0\n",
              "Genres            0\n",
              "Last Updated      0\n",
              "Current Ver       0\n",
              "Android Ver       0\n",
              "dtype: int64"
            ]
          },
          "metadata": {},
          "execution_count": 14
        }
      ]
    },
    {
      "cell_type": "code",
      "source": [
        "# The total number of apps\n",
        "print('Total number of apps in the file = ', df_play_store['App'].count())"
      ],
      "metadata": {
        "colab": {
          "base_uri": "https://localhost:8080/"
        },
        "id": "FzGy355tLx6q",
        "outputId": "ec4e35e4-3050-4df5-9396-13276211b813"
      },
      "execution_count": 15,
      "outputs": [
        {
          "output_type": "stream",
          "name": "stdout",
          "text": [
            "Total number of apps in the file =  9745\n"
          ]
        }
      ]
    },
    {
      "cell_type": "markdown",
      "source": [
        "### **Let's handle missing/null values**"
      ],
      "metadata": {
        "id": "nFXJk-2jMPOE"
      }
    },
    {
      "cell_type": "code",
      "metadata": {
        "colab": {
          "base_uri": "https://localhost:8080/"
        },
        "id": "a5aeSS3GkJEo",
        "outputId": "5757bc1f-6755-4c79-87f6-cef8694ef5b1"
      },
      "source": [
        "df_play_store.info()"
      ],
      "execution_count": 16,
      "outputs": [
        {
          "output_type": "stream",
          "name": "stdout",
          "text": [
            "<class 'pandas.core.frame.DataFrame'>\n",
            "Int64Index: 9745 entries, 2989 to 4177\n",
            "Data columns (total 13 columns):\n",
            " #   Column          Non-Null Count  Dtype  \n",
            "---  ------          --------------  -----  \n",
            " 0   App             9745 non-null   object \n",
            " 1   Category        9745 non-null   object \n",
            " 2   Rating          8281 non-null   float64\n",
            " 3   Reviews         9745 non-null   object \n",
            " 4   Size            9745 non-null   object \n",
            " 5   Installs        9745 non-null   object \n",
            " 6   Type            9744 non-null   object \n",
            " 7   Price           9745 non-null   object \n",
            " 8   Content Rating  9744 non-null   object \n",
            " 9   Genres          9745 non-null   object \n",
            " 10  Last Updated    9745 non-null   object \n",
            " 11  Current Ver     9737 non-null   object \n",
            " 12  Android Ver     9742 non-null   object \n",
            "dtypes: float64(1), object(12)\n",
            "memory usage: 1.0+ MB\n"
          ]
        }
      ]
    },
    {
      "cell_type": "markdown",
      "source": [
        "### Rating column has most null values but cannot remove them all. \n",
        "### We will drop the rows of current ver, android ver, content rating and type which contain null values.\n",
        "### We have to handle null values of  rating.\n"
      ],
      "metadata": {
        "id": "SwUjl66RLes1"
      }
    },
    {
      "cell_type": "code",
      "source": [
        "# get null values count column wise\n",
        "df_play_store.isnull().sum()"
      ],
      "metadata": {
        "colab": {
          "base_uri": "https://localhost:8080/"
        },
        "id": "R3SoBhkt2FxS",
        "outputId": "d1137564-7684-453e-a7da-eb5eeee62f28"
      },
      "execution_count": 41,
      "outputs": [
        {
          "output_type": "execute_result",
          "data": {
            "text/plain": [
              "App                  0\n",
              "Category             0\n",
              "Rating            1459\n",
              "Reviews              0\n",
              "Size                 0\n",
              "Installs             0\n",
              "Type                 0\n",
              "Price                0\n",
              "Content Rating       0\n",
              "Genres               0\n",
              "Last Updated         0\n",
              "Current Ver          0\n",
              "Android Ver          0\n",
              "dtype: int64"
            ]
          },
          "metadata": {},
          "execution_count": 41
        }
      ]
    },
    {
      "cell_type": "code",
      "source": [
        "# Drop the rows of current ver and android ver which contain null values.\n",
        "df_play_store.dropna(inplace=True,subset=['Type','Content Rating','Current Ver','Android Ver'])"
      ],
      "metadata": {
        "id": "yFhvztfc1d-z"
      },
      "execution_count": 21,
      "outputs": []
    },
    {
      "cell_type": "markdown",
      "source": [
        "### Detecting outliers and then handling null values of rating coulmn."
      ],
      "metadata": {
        "id": "2bOkD1Bc7VC3"
      }
    },
    {
      "cell_type": "code",
      "source": [
        "sns.boxplot(x='Rating',data=df_play_store)\n",
        "plt.show()"
      ],
      "metadata": {
        "colab": {
          "base_uri": "https://localhost:8080/",
          "height": 279
        },
        "id": "qtZZyUBV4jfS",
        "outputId": "0b505fe6-eee9-4dc6-8b67-51a6444d7e5a"
      },
      "execution_count": 46,
      "outputs": [
        {
          "output_type": "display_data",
          "data": {
            "image/png": "[encoded data removed]",
            "text/plain": [
              "<Figure size 432x288 with 1 Axes>"
            ]
          },
          "metadata": {}
        }
      ]
    },
    {
      "cell_type": "markdown",
      "source": [
        "### From boxplot there is no outliers in rating column.\n",
        "### Replacing the null values of rating column with median."
      ],
      "metadata": {
        "id": "MPzPDf2179Tw"
      }
    },
    {
      "cell_type": "code",
      "source": [
        "def inpute_median(series):\n",
        "  return series.fillna(series.median())"
      ],
      "metadata": {
        "id": "Ah1YGuX878Kw"
      },
      "execution_count": 47,
      "outputs": []
    },
    {
      "cell_type": "code",
      "source": [
        "df_play_store.Rating = df_play_store['Rating'].transform(inpute_median)"
      ],
      "metadata": {
        "id": "nYgRuHtW8lXW"
      },
      "execution_count": 48,
      "outputs": []
    },
    {
      "cell_type": "code",
      "source": [
        "# get null values count column wise\n",
        "df_play_store.isnull().sum()"
      ],
      "metadata": {
        "colab": {
          "base_uri": "https://localhost:8080/"
        },
        "id": "TXLS9fts8suP",
        "outputId": "65defce8-668e-4ce4-af91-16475906429d"
      },
      "execution_count": 49,
      "outputs": [
        {
          "output_type": "execute_result",
          "data": {
            "text/plain": [
              "App               0\n",
              "Category          0\n",
              "Rating            0\n",
              "Reviews           0\n",
              "Size              0\n",
              "Installs          0\n",
              "Type              0\n",
              "Price             0\n",
              "Content Rating    0\n",
              "Genres            0\n",
              "Last Updated      0\n",
              "Current Ver       0\n",
              "Android Ver       0\n",
              "dtype: int64"
            ]
          },
          "metadata": {},
          "execution_count": 49
        }
      ]
    },
    {
      "cell_type": "markdown",
      "source": [
        "### **There are many numeric value columns that has Dtype object. Will change that to numeric.**"
      ],
      "metadata": {
        "id": "BRlSKx709JM-"
      }
    },
    {
      "cell_type": "code",
      "source": [
        "df_play_store.info()"
      ],
      "metadata": {
        "colab": {
          "base_uri": "https://localhost:8080/"
        },
        "id": "aRonfb-18-c7",
        "outputId": "eea593a3-5c3f-4e29-9953-91da728ca2cb"
      },
      "execution_count": 50,
      "outputs": [
        {
          "output_type": "stream",
          "name": "stdout",
          "text": [
            "<class 'pandas.core.frame.DataFrame'>\n",
            "Int64Index: 9733 entries, 2989 to 4177\n",
            "Data columns (total 13 columns):\n",
            " #   Column          Non-Null Count  Dtype  \n",
            "---  ------          --------------  -----  \n",
            " 0   App             9733 non-null   object \n",
            " 1   Category        9733 non-null   object \n",
            " 2   Rating          9733 non-null   float64\n",
            " 3   Reviews         9733 non-null   object \n",
            " 4   Size            9733 non-null   object \n",
            " 5   Installs        9733 non-null   object \n",
            " 6   Type            9733 non-null   object \n",
            " 7   Price           9733 non-null   object \n",
            " 8   Content Rating  9733 non-null   object \n",
            " 9   Genres          9733 non-null   object \n",
            " 10  Last Updated    9733 non-null   object \n",
            " 11  Current Ver     9733 non-null   object \n",
            " 12  Android Ver     9733 non-null   object \n",
            "dtypes: float64(1), object(12)\n",
            "memory usage: 1.4+ MB\n"
          ]
        }
      ]
    },
    {
      "cell_type": "code",
      "metadata": {
        "colab": {
          "base_uri": "https://localhost:8080/"
        },
        "id": "n6F2WSxF9Plz",
        "outputId": "e26f29cd-1c13-4128-e567-0a8a881edf3b"
      },
      "source": [
        "# For Install column.\n",
        "df_play_store['Installs'].value_counts()"
      ],
      "execution_count": 51,
      "outputs": [
        {
          "output_type": "execute_result",
          "data": {
            "text/plain": [
              "1,000,000+        1429\n",
              "100,000+          1114\n",
              "10,000+           1029\n",
              "10,000,000+        959\n",
              "1,000+             887\n",
              "100+               709\n",
              "5,000,000+         620\n",
              "500,000+           509\n",
              "50,000+            468\n",
              "5,000+             467\n",
              "10+                384\n",
              "500+               328\n",
              "50,000,000+        211\n",
              "50+                204\n",
              "100,000,000+       204\n",
              "5+                  82\n",
              "1+                  67\n",
              "500,000,000+        27\n",
              "1,000,000,000+      21\n",
              "0+                  14\n",
              "Name: Installs, dtype: int64"
            ]
          },
          "metadata": {},
          "execution_count": 51
        }
      ]
    },
    {
      "cell_type": "code",
      "metadata": {
        "id": "VnInbFT49P5Z"
      },
      "source": [
        "# There are  + symbol present so replacing those with lambda function\n",
        "df_play_store['Installs'] = df_play_store['Installs'].apply(lambda x: str(x).replace('+','') if '+' in str(x) else str(x))\n",
        "\n",
        "# There are  , symbol present so replacing those with lambda function\n",
        "df_play_store['Installs'] = df_play_store['Installs'].apply(lambda x: str(x).replace(',','') if ',' in str(x) else str(x))\n",
        "\n",
        "# converting string to int type value\n",
        "df_play_store['Installs'] = df_play_store['Installs'].apply(lambda x: int(x))"
      ],
      "execution_count": 52,
      "outputs": []
    },
    {
      "cell_type": "code",
      "metadata": {
        "id": "FvUPyo6Z9lk8",
        "colab": {
          "base_uri": "https://localhost:8080/"
        },
        "outputId": "57a39aaa-37d2-4dbc-e8c0-94b9eb1c66bf"
      },
      "source": [
        "#For Size column. \n",
        "df_play_store.Size.unique()"
      ],
      "execution_count": 54,
      "outputs": [
        {
          "output_type": "execute_result",
          "data": {
            "text/plain": [
              "array(['31M', '91k', '18M', '33M', '22M', 'Varies with device', '5.5M',\n",
              "       '10M', '3.7M', '38M', '96M', '15M', '97M', '2.9M', '2.8M', '3.9M',\n",
              "       '49M', '3.2M', '75M', '9.4M', '19M', '71M', '13M', '6.6M', '1.1M',\n",
              "       '63M', '2.7M', '39M', '51M', '74M', '99M', '27M', '40M', '59M',\n",
              "       '4.5M', '37M', '55M', '16M', '70M', '7.2M', '73k', '2.0M', '6.3M',\n",
              "       '3.4M', '9.7M', '9.9M', '720k', '14M', '7.9M', '45M', '20M',\n",
              "       '6.7M', '1.3M', '87M', '8.9M', '2.6M', '598k', '3.5M', '1.9M',\n",
              "       '23M', '3.6M', '26M', '30M', '5.1M', '53M', '9.0M', '93k', '4.1M',\n",
              "       '28M', '25M', '2.5M', '3.8M', '1.5M', '12M', '54M', '1.0M', '79M',\n",
              "       '5.8M', '82M', '4.7M', '58M', '7.6M', '61M', '7.0M', '64M', '3.1M',\n",
              "       '118k', '696k', '44M', '411k', '1.2M', '17M', '60M', '57M', '43M',\n",
              "       '21M', '11M', '9.3M', '6.5M', '3.0M', '1.7M', '6.1M', '387k',\n",
              "       '8.7M', '9.2M', '35M', '7.3M', '5.4M', '5.0M', '98M', '5.6M',\n",
              "       '5.7M', '924k', '1.6M', '36M', '2.4M', '383k', '8.6M', '56M',\n",
              "       '4.3M', '67M', '552k', '2.1M', '47M', '5.9M', '32M', '80M', '70k',\n",
              "       '4.0M', '76M', '335k', '8.3M', '6.0M', '24M', '42M', '196k', '84M',\n",
              "       '4.6M', '1.8M', '323k', '8.8M', '2.3M', '77M', '6.9M', '6.8M',\n",
              "       '51k', '3.3M', '169k', '4.2M', '780k', '4.8M', '992k', '4.9M',\n",
              "       '8.4M', '95M', '29M', '6.4M', '939k', '34M', '73M', '7.4M', '9.6M',\n",
              "       '8.0M', '66M', '5.3M', '41M', '9.1M', '7.7M', '68M', '8.5M',\n",
              "       '309k', '7.5M', '9.5M', '46M', '91M', '459k', '601k', '78M', '88M',\n",
              "       '48M', '92M', '85M', '414k', '8.2M', '4.4M', '62M', '50M', '7.8M',\n",
              "       '93M', '52M', '2.2M', '8.1M', '6.2M', '749k', '364k', '201k',\n",
              "       '375k', '322k', '787k', '812k', '72M', '7.1M', '292k', '83M',\n",
              "       '1.4M', '69M', '329k', '544k', '412k', '691k', '39k', '81M',\n",
              "       '192k', '81k', '308k', '9.8M', '5.2M', '853k', '444k', '951k',\n",
              "       '334k', '61k', '865k', '72k', '232k', '499k', '65M', '809k',\n",
              "       '728k', '17k', '556k', '90M', '100M', '470k', '54k', '837k',\n",
              "       '417k', '175k', '592k', '458k', '89k', '234k', '41k', '18k',\n",
              "       '704k', '314k', '28k', '89M', '903k', '94M', '186k', '259k',\n",
              "       '245k', '288k', '430k', '506k', '636k', '861k', '629k', '902k',\n",
              "       '597k', '420k', '58k', '29k', '965k', '879k', '270k', '26k',\n",
              "       '161k', '562k', '86M', '176k', '842k', '609k', '920k', '619k',\n",
              "       '526k', '34k', '656k', '554k', '930k', '986k', '353k', '318k',\n",
              "       '306k', '23k', '498k', '511k', '33k', '840k', '569k', '892k',\n",
              "       '881k', '251k', '122k', '916k', '24k', '862k', '266k', '756k',\n",
              "       '676k', '141k', '473k', '857k', '280k', '467k', '313k', '914k',\n",
              "       '239k', '437k', '25k', '74k', '208k', '206k', '228k', '454k',\n",
              "       '540k', '887k', '721k', '14k', '961k', '97k', '10.0M', '55k',\n",
              "       '948k', '108k', '154k', '319k', '585k', '153k', '818k', '121k',\n",
              "       '785k', '772k', '600k', '647k', '714k', '50k', '193k', '975k',\n",
              "       '203k', '160k', '626k', '976k', '44k', '478k', '872k', '860k',\n",
              "       '173k', '8.5k', '221k', '283k', '954k', '351k', '371k', '801k',\n",
              "       '545k', '82k', '982k', '953k', '811k', '899k', '103k', '200k',\n",
              "       '376k', '210k', '730k', '78k', '116k', '957k', '705k', '238k',\n",
              "       '981k', '970k', '219k', '716k', '317k', '48k', '994k', '496k',\n",
              "       '816k', '525k', '157k', '523k', '67k', '963k', '246k', '170k',\n",
              "       '144k', '293k', '743k', '779k', '257k', '373k', '253k', '460k',\n",
              "       '164k', '784k', '20k', '240k', '226k', '442k', '485k', '209k',\n",
              "       '754k', '400k', '45k', '778k', '27k', '429k', '143k', '500k',\n",
              "       '942k', '624k', '241k', '695k', '713k', '79k', '980k', '782k',\n",
              "       '613k', '775k', '582k', '350k', '746k', '551k', '220k', '608k',\n",
              "       '190k', '404k', '847k', '643k', '378k', '516k', '717k', '514k',\n",
              "       '663k', '421k', '655k', '885k', '683k', '874k', '172k', '921k',\n",
              "       '1020k', '904k', '898k', '475k', '191k', '913k', '243k', '642k',\n",
              "       '940k', '518k', '549k', '688k', '269k'], dtype=object)"
            ]
          },
          "metadata": {},
          "execution_count": 54
        }
      ]
    },
    {
      "cell_type": "markdown",
      "source": [
        "### In **Size column**  we can see that the size is not defined in single unit Both KB and MB are there. So we have to convert those to same unit (KB). \n",
        "\n",
        "### Also There are columns with Varies with device string. Will be giving zero for app size that varies with device. As size can't be zero so treated as variable size."
      ],
      "metadata": {
        "id": "9Z9H07HB_Agn"
      }
    },
    {
      "cell_type": "code",
      "source": [
        "df_play_store['Size'] = df_play_store['Size'].apply(lambda x: str(x).replace('Varies with device', '0' ) if 'Varies with device' in str(x) else x)\n",
        "df_play_store['Size'] = df_play_store['Size'].apply(lambda x: float(str(x).replace('M', '')) * 1024 if 'M' in str(x) else x)\n",
        "df_play_store['Size'] = df_play_store['Size'].apply(lambda x: str(x).replace('.', '') if 'M' in str(x) else x)\n",
        "df_play_store['Size'] = df_play_store['Size'].apply(lambda x: str(x).replace('k', '') if 'k' in str(x) else x)\n",
        "\n",
        "# converting all str values to float\n",
        "df_play_store['Size'] = df_play_store['Size'].apply(lambda x: float(x))"
      ],
      "metadata": {
        "id": "3ZGgIAGa_1Yf"
      },
      "execution_count": 56,
      "outputs": []
    },
    {
      "cell_type": "code",
      "metadata": {
        "id": "Y_Jzl62X99TH"
      },
      "source": [
        "#function for Review column\n",
        "def string_to_integer(string):\n",
        "  return int(string)"
      ],
      "execution_count": 67,
      "outputs": []
    },
    {
      "cell_type": "code",
      "metadata": {
        "id": "BaLA90KL-OEO"
      },
      "source": [
        "df_play_store['Reviews'] = df_play_store['Reviews'].apply(string_to_integer)"
      ],
      "execution_count": 68,
      "outputs": []
    },
    {
      "cell_type": "code",
      "metadata": {
        "id": "SVXZwuAFXPxy"
      },
      "source": [
        "#function for price (All prices are in $)\n",
        "def string_to_float(string):\n",
        "  if string=='0':\n",
        "    return 0\n",
        "  else:\n",
        "    return float(string[1:])"
      ],
      "execution_count": 70,
      "outputs": []
    },
    {
      "cell_type": "code",
      "metadata": {
        "id": "BoN18Q2LXgx2"
      },
      "source": [
        "df_play_store['Price']=df_play_store['Price'].apply(string_to_float)"
      ],
      "execution_count": 71,
      "outputs": []
    },
    {
      "cell_type": "code",
      "metadata": {
        "colab": {
          "base_uri": "https://localhost:8080/"
        },
        "id": "4Qp0gj6lXs1-",
        "outputId": "31900dd4-9532-4998-f40e-d7e42777184c"
      },
      "source": [
        "df_play_store['Price'].describe()"
      ],
      "execution_count": 72,
      "outputs": [
        {
          "output_type": "execute_result",
          "data": {
            "text/plain": [
              "count    9733.000000\n",
              "mean        1.091610\n",
              "std        16.788333\n",
              "min         0.000000\n",
              "25%         0.000000\n",
              "50%         0.000000\n",
              "75%         0.000000\n",
              "max       400.000000\n",
              "Name: Price, dtype: float64"
            ]
          },
          "metadata": {},
          "execution_count": 72
        }
      ]
    },
    {
      "cell_type": "markdown",
      "source": [
        "### From Last Updated column taking year to make column of new year"
      ],
      "metadata": {
        "id": "RTyaMs8xD6uj"
      }
    },
    {
      "cell_type": "code",
      "metadata": {
        "id": "oUCSqjuHim6D"
      },
      "source": [
        "def string_to_year(string):\n",
        "  return int(string[-4:])"
      ],
      "execution_count": 80,
      "outputs": []
    },
    {
      "cell_type": "code",
      "source": [
        "df_play_store['new_year']=df_play_store['Last Updated'].apply(string_to_year)\n",
        "df_play_store['new_year'] = pd.to_datetime(df_play_store['new_year'], format='%Y')"
      ],
      "metadata": {
        "id": "vOjpiehXCas-"
      },
      "execution_count": 81,
      "outputs": []
    },
    {
      "cell_type": "code",
      "source": [
        "df_play_store.info()"
      ],
      "metadata": {
        "colab": {
          "base_uri": "https://localhost:8080/"
        },
        "id": "NOrD1tjTCdft",
        "outputId": "9c292f41-c598-4910-fe27-7214a48105cc"
      },
      "execution_count": 82,
      "outputs": [
        {
          "output_type": "stream",
          "name": "stdout",
          "text": [
            "<class 'pandas.core.frame.DataFrame'>\n",
            "Int64Index: 9733 entries, 2989 to 4177\n",
            "Data columns (total 15 columns):\n",
            " #   Column          Non-Null Count  Dtype         \n",
            "---  ------          --------------  -----         \n",
            " 0   App             9733 non-null   object        \n",
            " 1   Category        9733 non-null   object        \n",
            " 2   Rating          9733 non-null   float64       \n",
            " 3   Reviews         9733 non-null   int64         \n",
            " 4   Size            9733 non-null   float64       \n",
            " 5   Installs        9733 non-null   int64         \n",
            " 6   Type            9733 non-null   object        \n",
            " 7   Price           9733 non-null   float64       \n",
            " 8   Content Rating  9733 non-null   object        \n",
            " 9   Genres          9733 non-null   object        \n",
            " 10  Last Updated    9733 non-null   object        \n",
            " 11  Current Ver     9733 non-null   object        \n",
            " 12  Android Ver     9733 non-null   object        \n",
            " 13  updation_year   9733 non-null   datetime64[ns]\n",
            " 14  new_year        9733 non-null   datetime64[ns]\n",
            "dtypes: datetime64[ns](2), float64(3), int64(2), object(8)\n",
            "memory usage: 1.5+ MB\n"
          ]
        }
      ]
    },
    {
      "cell_type": "code",
      "source": [
        ""
      ],
      "metadata": {
        "id": "tbh3HlksCpoJ"
      },
      "execution_count": 76,
      "outputs": []
    },
    {
      "cell_type": "code",
      "source": [
        ""
      ],
      "metadata": {
        "id": "X1XzxhjQDsvs"
      },
      "execution_count": null,
      "outputs": []
    }
  ]
}