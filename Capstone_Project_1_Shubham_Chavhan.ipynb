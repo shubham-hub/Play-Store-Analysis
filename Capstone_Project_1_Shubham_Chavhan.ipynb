{
  "nbformat": 4,
  "nbformat_minor": 0,
  "metadata": {
    "colab": {
      "name": "Capstone_Project_1 - Shubham_Chavhan.ipynb",
      "provenance": [],
      "collapsed_sections": [],
      "authorship_tag": "ABX9TyMWWieZiPo5pxzgctXCkOaV",
      "include_colab_link": true
    },
    "kernelspec": {
      "name": "python3",
      "display_name": "Python 3"
    },
    "language_info": {
      "name": "python"
    }
  },
  "cells": [
    {
      "cell_type": "markdown",
      "metadata": {
        "id": "view-in-github",
        "colab_type": "text"
      },
      "source": [
        "<a href=\"https://colab.research.google.com/github/shubham-hub/Play-Store-Analysis/blob/main/Capstone_Project_1_Shubham_Chavhan.ipynb\" target=\"_parent\"><img src=\"https://colab.research.google.com/assets/colab-badge.svg\" alt=\"Open In Colab\"/></a>"
      ]
    },
    {
      "cell_type": "code",
      "metadata": {
        "id": "cBNfPsEGWwOt"
      },
      "source": [
        "#import the libraries\n",
        "import pandas as pd\n",
        "import numpy as np\n",
        "import seaborn as sns\n",
        "import matplotlib.pyplot as plt"
      ],
      "execution_count": 147,
      "outputs": []
    },
    {
      "cell_type": "code",
      "metadata": {
        "colab": {
          "base_uri": "https://localhost:8080/"
        },
        "id": "Hv2IA-DccjRI",
        "outputId": "47a9fa10-ece8-4419-f290-ac8fbb645f89"
      },
      "source": [
        "# Mount Google Drive\n",
        "from google.colab import drive\n",
        "drive.mount('/content/drive')"
      ],
      "execution_count": 148,
      "outputs": [
        {
          "output_type": "stream",
          "name": "stdout",
          "text": [
            "Drive already mounted at /content/drive; to attempt to forcibly remount, call drive.mount(\"/content/drive\", force_remount=True).\n"
          ]
        }
      ]
    },
    {
      "cell_type": "code",
      "metadata": {
        "id": "jbYVgYFfcrM5"
      },
      "source": [
        "#Creating dataframes for both playstore data as well as user reviews data\n",
        "playstore_df = pd.read_csv('/content/drive/MyDrive/Play_Store_Project/Play Store Data.csv')\n",
        "user_df = pd.read_csv('/content/drive/MyDrive/Play_Store_Project/User Reviews.csv')"
      ],
      "execution_count": 149,
      "outputs": []
    },
    {
      "cell_type": "code",
      "metadata": {
        "colab": {
          "base_uri": "https://localhost:8080/",
          "height": 293
        },
        "id": "kLJPw_r8ehTV",
        "outputId": "a1a633fc-5d3a-4622-9596-b5a320dd1e05"
      },
      "source": [
        "#understanding playstoredata\n",
        "playstore_df.head()"
      ],
      "execution_count": 150,
      "outputs": [
        {
          "output_type": "execute_result",
          "data": {
            "text/html": [
              "<div>\n",
              "<style scoped>\n",
              "    .dataframe tbody tr th:only-of-type {\n",
              "        vertical-align: middle;\n",
              "    }\n",
              "\n",
              "    .dataframe tbody tr th {\n",
              "        vertical-align: top;\n",
              "    }\n",
              "\n",
              "    .dataframe thead th {\n",
              "        text-align: right;\n",
              "    }\n",
              "</style>\n",
              "<table border=\"1\" class=\"dataframe\">\n",
              "  <thead>\n",
              "    <tr style=\"text-align: right;\">\n",
              "      <th></th>\n",
              "      <th>App</th>\n",
              "      <th>Category</th>\n",
              "      <th>Rating</th>\n",
              "      <th>Reviews</th>\n",
              "      <th>Size</th>\n",
              "      <th>Installs</th>\n",
              "      <th>Type</th>\n",
              "      <th>Price</th>\n",
              "      <th>Content Rating</th>\n",
              "      <th>Genres</th>\n",
              "      <th>Last Updated</th>\n",
              "      <th>Current Ver</th>\n",
              "      <th>Android Ver</th>\n",
              "    </tr>\n",
              "  </thead>\n",
              "  <tbody>\n",
              "    <tr>\n",
              "      <th>0</th>\n",
              "      <td>Photo Editor &amp; Candy Camera &amp; Grid &amp; ScrapBook</td>\n",
              "      <td>ART_AND_DESIGN</td>\n",
              "      <td>4.1</td>\n",
              "      <td>159</td>\n",
              "      <td>19M</td>\n",
              "      <td>10,000+</td>\n",
              "      <td>Free</td>\n",
              "      <td>0</td>\n",
              "      <td>Everyone</td>\n",
              "      <td>Art &amp; Design</td>\n",
              "      <td>January 7, 2018</td>\n",
              "      <td>1.0.0</td>\n",
              "      <td>4.0.3 and up</td>\n",
              "    </tr>\n",
              "    <tr>\n",
              "      <th>1</th>\n",
              "      <td>Coloring book moana</td>\n",
              "      <td>ART_AND_DESIGN</td>\n",
              "      <td>3.9</td>\n",
              "      <td>967</td>\n",
              "      <td>14M</td>\n",
              "      <td>500,000+</td>\n",
              "      <td>Free</td>\n",
              "      <td>0</td>\n",
              "      <td>Everyone</td>\n",
              "      <td>Art &amp; Design;Pretend Play</td>\n",
              "      <td>January 15, 2018</td>\n",
              "      <td>2.0.0</td>\n",
              "      <td>4.0.3 and up</td>\n",
              "    </tr>\n",
              "    <tr>\n",
              "      <th>2</th>\n",
              "      <td>U Launcher Lite – FREE Live Cool Themes, Hide ...</td>\n",
              "      <td>ART_AND_DESIGN</td>\n",
              "      <td>4.7</td>\n",
              "      <td>87510</td>\n",
              "      <td>8.7M</td>\n",
              "      <td>5,000,000+</td>\n",
              "      <td>Free</td>\n",
              "      <td>0</td>\n",
              "      <td>Everyone</td>\n",
              "      <td>Art &amp; Design</td>\n",
              "      <td>August 1, 2018</td>\n",
              "      <td>1.2.4</td>\n",
              "      <td>4.0.3 and up</td>\n",
              "    </tr>\n",
              "    <tr>\n",
              "      <th>3</th>\n",
              "      <td>Sketch - Draw &amp; Paint</td>\n",
              "      <td>ART_AND_DESIGN</td>\n",
              "      <td>4.5</td>\n",
              "      <td>215644</td>\n",
              "      <td>25M</td>\n",
              "      <td>50,000,000+</td>\n",
              "      <td>Free</td>\n",
              "      <td>0</td>\n",
              "      <td>Teen</td>\n",
              "      <td>Art &amp; Design</td>\n",
              "      <td>June 8, 2018</td>\n",
              "      <td>Varies with device</td>\n",
              "      <td>4.2 and up</td>\n",
              "    </tr>\n",
              "    <tr>\n",
              "      <th>4</th>\n",
              "      <td>Pixel Draw - Number Art Coloring Book</td>\n",
              "      <td>ART_AND_DESIGN</td>\n",
              "      <td>4.3</td>\n",
              "      <td>967</td>\n",
              "      <td>2.8M</td>\n",
              "      <td>100,000+</td>\n",
              "      <td>Free</td>\n",
              "      <td>0</td>\n",
              "      <td>Everyone</td>\n",
              "      <td>Art &amp; Design;Creativity</td>\n",
              "      <td>June 20, 2018</td>\n",
              "      <td>1.1</td>\n",
              "      <td>4.4 and up</td>\n",
              "    </tr>\n",
              "  </tbody>\n",
              "</table>\n",
              "</div>"
            ],
            "text/plain": [
              "                                                 App  ...   Android Ver\n",
              "0     Photo Editor & Candy Camera & Grid & ScrapBook  ...  4.0.3 and up\n",
              "1                                Coloring book moana  ...  4.0.3 and up\n",
              "2  U Launcher Lite – FREE Live Cool Themes, Hide ...  ...  4.0.3 and up\n",
              "3                              Sketch - Draw & Paint  ...    4.2 and up\n",
              "4              Pixel Draw - Number Art Coloring Book  ...    4.4 and up\n",
              "\n",
              "[5 rows x 13 columns]"
            ]
          },
          "metadata": {},
          "execution_count": 150
        }
      ]
    },
    {
      "cell_type": "code",
      "metadata": {
        "colab": {
          "base_uri": "https://localhost:8080/"
        },
        "id": "CEKK0QItevq5",
        "outputId": "358716fe-68a2-4230-a0e0-1a3e48c7db23"
      },
      "source": [
        "playstore_df.info()"
      ],
      "execution_count": 151,
      "outputs": [
        {
          "output_type": "stream",
          "name": "stdout",
          "text": [
            "<class 'pandas.core.frame.DataFrame'>\n",
            "RangeIndex: 10841 entries, 0 to 10840\n",
            "Data columns (total 13 columns):\n",
            " #   Column          Non-Null Count  Dtype  \n",
            "---  ------          --------------  -----  \n",
            " 0   App             10841 non-null  object \n",
            " 1   Category        10841 non-null  object \n",
            " 2   Rating          9367 non-null   float64\n",
            " 3   Reviews         10841 non-null  object \n",
            " 4   Size            10841 non-null  object \n",
            " 5   Installs        10841 non-null  object \n",
            " 6   Type            10840 non-null  object \n",
            " 7   Price           10841 non-null  object \n",
            " 8   Content Rating  10840 non-null  object \n",
            " 9   Genres          10841 non-null  object \n",
            " 10  Last Updated    10841 non-null  object \n",
            " 11  Current Ver     10833 non-null  object \n",
            " 12  Android Ver     10838 non-null  object \n",
            "dtypes: float64(1), object(12)\n",
            "memory usage: 1.1+ MB\n"
          ]
        }
      ]
    },
    {
      "cell_type": "code",
      "metadata": {
        "colab": {
          "base_uri": "https://localhost:8080/",
          "height": 300
        },
        "id": "jJ3oy4Vaezkc",
        "outputId": "0e4c69fb-14b9-4271-8ad1-0878e2c8ffc5"
      },
      "source": [
        "playstore_df.describe()"
      ],
      "execution_count": 152,
      "outputs": [
        {
          "output_type": "execute_result",
          "data": {
            "text/html": [
              "<div>\n",
              "<style scoped>\n",
              "    .dataframe tbody tr th:only-of-type {\n",
              "        vertical-align: middle;\n",
              "    }\n",
              "\n",
              "    .dataframe tbody tr th {\n",
              "        vertical-align: top;\n",
              "    }\n",
              "\n",
              "    .dataframe thead th {\n",
              "        text-align: right;\n",
              "    }\n",
              "</style>\n",
              "<table border=\"1\" class=\"dataframe\">\n",
              "  <thead>\n",
              "    <tr style=\"text-align: right;\">\n",
              "      <th></th>\n",
              "      <th>Rating</th>\n",
              "    </tr>\n",
              "  </thead>\n",
              "  <tbody>\n",
              "    <tr>\n",
              "      <th>count</th>\n",
              "      <td>9367.000000</td>\n",
              "    </tr>\n",
              "    <tr>\n",
              "      <th>mean</th>\n",
              "      <td>4.193338</td>\n",
              "    </tr>\n",
              "    <tr>\n",
              "      <th>std</th>\n",
              "      <td>0.537431</td>\n",
              "    </tr>\n",
              "    <tr>\n",
              "      <th>min</th>\n",
              "      <td>1.000000</td>\n",
              "    </tr>\n",
              "    <tr>\n",
              "      <th>25%</th>\n",
              "      <td>4.000000</td>\n",
              "    </tr>\n",
              "    <tr>\n",
              "      <th>50%</th>\n",
              "      <td>4.300000</td>\n",
              "    </tr>\n",
              "    <tr>\n",
              "      <th>75%</th>\n",
              "      <td>4.500000</td>\n",
              "    </tr>\n",
              "    <tr>\n",
              "      <th>max</th>\n",
              "      <td>19.000000</td>\n",
              "    </tr>\n",
              "  </tbody>\n",
              "</table>\n",
              "</div>"
            ],
            "text/plain": [
              "            Rating\n",
              "count  9367.000000\n",
              "mean      4.193338\n",
              "std       0.537431\n",
              "min       1.000000\n",
              "25%       4.000000\n",
              "50%       4.300000\n",
              "75%       4.500000\n",
              "max      19.000000"
            ]
          },
          "metadata": {},
          "execution_count": 152
        }
      ]
    },
    {
      "cell_type": "code",
      "metadata": {
        "id": "KHKngWKJe1-B"
      },
      "source": [
        "startup_df = pd.read_csv('/content/drive/MyDrive/Copy of 50_Startups.csv')"
      ],
      "execution_count": 153,
      "outputs": []
    },
    {
      "cell_type": "code",
      "metadata": {
        "id": "eW6fL4WQiYtv"
      },
      "source": [
        "#this should be add \n",
        "playstore_df = playstore_df.reset_index()"
      ],
      "execution_count": 154,
      "outputs": []
    },
    {
      "cell_type": "code",
      "metadata": {
        "colab": {
          "base_uri": "https://localhost:8080/"
        },
        "id": "dASvPwU0041F",
        "outputId": "6648fd5f-379a-4a1d-957c-8c775c32fc0c"
      },
      "source": [
        "playstore_df['App'].value_counts()"
      ],
      "execution_count": 155,
      "outputs": [
        {
          "output_type": "execute_result",
          "data": {
            "text/plain": [
              "ROBLOX                                               9\n",
              "CBS Sports App - Scores, News, Stats & Watch Live    8\n",
              "ESPN                                                 7\n",
              "8 Ball Pool                                          7\n",
              "Duolingo: Learn Languages Free                       7\n",
              "                                                    ..\n",
              "Smashy Road: Arena                                   1\n",
              "All-night drugstore CI & Price                       1\n",
              "K-9 Mail                                             1\n",
              "Lep's World 3 🍀🍀🍀                                    1\n",
              "Draw Color by Number - Sandbox Pixel Art             1\n",
              "Name: App, Length: 9660, dtype: int64"
            ]
          },
          "metadata": {},
          "execution_count": 155
        }
      ]
    },
    {
      "cell_type": "code",
      "metadata": {
        "colab": {
          "base_uri": "https://localhost:8080/",
          "height": 269
        },
        "id": "9m7pC7oJl0XL",
        "outputId": "a5793ad3-fe8a-4d87-9d04-8ff9bbff5bf9"
      },
      "source": [
        "#1871_max 1675_min\n",
        "playstore_df[playstore_df['App']=='8 Ball Pool']"
      ],
      "execution_count": 156,
      "outputs": [
        {
          "output_type": "execute_result",
          "data": {
            "text/html": [
              "<div>\n",
              "<style scoped>\n",
              "    .dataframe tbody tr th:only-of-type {\n",
              "        vertical-align: middle;\n",
              "    }\n",
              "\n",
              "    .dataframe tbody tr th {\n",
              "        vertical-align: top;\n",
              "    }\n",
              "\n",
              "    .dataframe thead th {\n",
              "        text-align: right;\n",
              "    }\n",
              "</style>\n",
              "<table border=\"1\" class=\"dataframe\">\n",
              "  <thead>\n",
              "    <tr style=\"text-align: right;\">\n",
              "      <th></th>\n",
              "      <th>index</th>\n",
              "      <th>App</th>\n",
              "      <th>Category</th>\n",
              "      <th>Rating</th>\n",
              "      <th>Reviews</th>\n",
              "      <th>Size</th>\n",
              "      <th>Installs</th>\n",
              "      <th>Type</th>\n",
              "      <th>Price</th>\n",
              "      <th>Content Rating</th>\n",
              "      <th>Genres</th>\n",
              "      <th>Last Updated</th>\n",
              "      <th>Current Ver</th>\n",
              "      <th>Android Ver</th>\n",
              "    </tr>\n",
              "  </thead>\n",
              "  <tbody>\n",
              "    <tr>\n",
              "      <th>1675</th>\n",
              "      <td>1675</td>\n",
              "      <td>8 Ball Pool</td>\n",
              "      <td>GAME</td>\n",
              "      <td>4.5</td>\n",
              "      <td>14198297</td>\n",
              "      <td>52M</td>\n",
              "      <td>100,000,000+</td>\n",
              "      <td>Free</td>\n",
              "      <td>0</td>\n",
              "      <td>Everyone</td>\n",
              "      <td>Sports</td>\n",
              "      <td>July 31, 2018</td>\n",
              "      <td>4.0.0</td>\n",
              "      <td>4.0.3 and up</td>\n",
              "    </tr>\n",
              "    <tr>\n",
              "      <th>1703</th>\n",
              "      <td>1703</td>\n",
              "      <td>8 Ball Pool</td>\n",
              "      <td>GAME</td>\n",
              "      <td>4.5</td>\n",
              "      <td>14198602</td>\n",
              "      <td>52M</td>\n",
              "      <td>100,000,000+</td>\n",
              "      <td>Free</td>\n",
              "      <td>0</td>\n",
              "      <td>Everyone</td>\n",
              "      <td>Sports</td>\n",
              "      <td>July 31, 2018</td>\n",
              "      <td>4.0.0</td>\n",
              "      <td>4.0.3 and up</td>\n",
              "    </tr>\n",
              "    <tr>\n",
              "      <th>1755</th>\n",
              "      <td>1755</td>\n",
              "      <td>8 Ball Pool</td>\n",
              "      <td>GAME</td>\n",
              "      <td>4.5</td>\n",
              "      <td>14200344</td>\n",
              "      <td>52M</td>\n",
              "      <td>100,000,000+</td>\n",
              "      <td>Free</td>\n",
              "      <td>0</td>\n",
              "      <td>Everyone</td>\n",
              "      <td>Sports</td>\n",
              "      <td>July 31, 2018</td>\n",
              "      <td>4.0.0</td>\n",
              "      <td>4.0.3 and up</td>\n",
              "    </tr>\n",
              "    <tr>\n",
              "      <th>1844</th>\n",
              "      <td>1844</td>\n",
              "      <td>8 Ball Pool</td>\n",
              "      <td>GAME</td>\n",
              "      <td>4.5</td>\n",
              "      <td>14200550</td>\n",
              "      <td>52M</td>\n",
              "      <td>100,000,000+</td>\n",
              "      <td>Free</td>\n",
              "      <td>0</td>\n",
              "      <td>Everyone</td>\n",
              "      <td>Sports</td>\n",
              "      <td>July 31, 2018</td>\n",
              "      <td>4.0.0</td>\n",
              "      <td>4.0.3 and up</td>\n",
              "    </tr>\n",
              "    <tr>\n",
              "      <th>1871</th>\n",
              "      <td>1871</td>\n",
              "      <td>8 Ball Pool</td>\n",
              "      <td>GAME</td>\n",
              "      <td>4.5</td>\n",
              "      <td>14201891</td>\n",
              "      <td>52M</td>\n",
              "      <td>100,000,000+</td>\n",
              "      <td>Free</td>\n",
              "      <td>0</td>\n",
              "      <td>Everyone</td>\n",
              "      <td>Sports</td>\n",
              "      <td>July 31, 2018</td>\n",
              "      <td>4.0.0</td>\n",
              "      <td>4.0.3 and up</td>\n",
              "    </tr>\n",
              "    <tr>\n",
              "      <th>1970</th>\n",
              "      <td>1970</td>\n",
              "      <td>8 Ball Pool</td>\n",
              "      <td>GAME</td>\n",
              "      <td>4.5</td>\n",
              "      <td>14201604</td>\n",
              "      <td>52M</td>\n",
              "      <td>100,000,000+</td>\n",
              "      <td>Free</td>\n",
              "      <td>0</td>\n",
              "      <td>Everyone</td>\n",
              "      <td>Sports</td>\n",
              "      <td>July 31, 2018</td>\n",
              "      <td>4.0.0</td>\n",
              "      <td>4.0.3 and up</td>\n",
              "    </tr>\n",
              "    <tr>\n",
              "      <th>3953</th>\n",
              "      <td>3953</td>\n",
              "      <td>8 Ball Pool</td>\n",
              "      <td>SPORTS</td>\n",
              "      <td>4.5</td>\n",
              "      <td>14184910</td>\n",
              "      <td>52M</td>\n",
              "      <td>100,000,000+</td>\n",
              "      <td>Free</td>\n",
              "      <td>0</td>\n",
              "      <td>Everyone</td>\n",
              "      <td>Sports</td>\n",
              "      <td>July 31, 2018</td>\n",
              "      <td>4.0.0</td>\n",
              "      <td>4.0.3 and up</td>\n",
              "    </tr>\n",
              "  </tbody>\n",
              "</table>\n",
              "</div>"
            ],
            "text/plain": [
              "      index          App Category  ...   Last Updated Current Ver   Android Ver\n",
              "1675   1675  8 Ball Pool     GAME  ...  July 31, 2018       4.0.0  4.0.3 and up\n",
              "1703   1703  8 Ball Pool     GAME  ...  July 31, 2018       4.0.0  4.0.3 and up\n",
              "1755   1755  8 Ball Pool     GAME  ...  July 31, 2018       4.0.0  4.0.3 and up\n",
              "1844   1844  8 Ball Pool     GAME  ...  July 31, 2018       4.0.0  4.0.3 and up\n",
              "1871   1871  8 Ball Pool     GAME  ...  July 31, 2018       4.0.0  4.0.3 and up\n",
              "1970   1970  8 Ball Pool     GAME  ...  July 31, 2018       4.0.0  4.0.3 and up\n",
              "3953   3953  8 Ball Pool   SPORTS  ...  July 31, 2018       4.0.0  4.0.3 and up\n",
              "\n",
              "[7 rows x 14 columns]"
            ]
          },
          "metadata": {},
          "execution_count": 156
        }
      ]
    },
    {
      "cell_type": "code",
      "metadata": {
        "colab": {
          "base_uri": "https://localhost:8080/",
          "height": 112
        },
        "id": "DgR1F0PQ2tJ-",
        "outputId": "21147a11-8bb5-4f66-dc88-fa4170f5b257"
      },
      "source": [
        "playstore_df[playstore_df['App']=='8 Ball Pool']"
      ],
      "execution_count": 158,
      "outputs": [
        {
          "output_type": "execute_result",
          "data": {
            "text/html": [
              "<div>\n",
              "<style scoped>\n",
              "    .dataframe tbody tr th:only-of-type {\n",
              "        vertical-align: middle;\n",
              "    }\n",
              "\n",
              "    .dataframe tbody tr th {\n",
              "        vertical-align: top;\n",
              "    }\n",
              "\n",
              "    .dataframe thead th {\n",
              "        text-align: right;\n",
              "    }\n",
              "</style>\n",
              "<table border=\"1\" class=\"dataframe\">\n",
              "  <thead>\n",
              "    <tr style=\"text-align: right;\">\n",
              "      <th></th>\n",
              "      <th>index</th>\n",
              "      <th>App</th>\n",
              "      <th>Category</th>\n",
              "      <th>Rating</th>\n",
              "      <th>Reviews</th>\n",
              "      <th>Size</th>\n",
              "      <th>Installs</th>\n",
              "      <th>Type</th>\n",
              "      <th>Price</th>\n",
              "      <th>Content Rating</th>\n",
              "      <th>Genres</th>\n",
              "      <th>Last Updated</th>\n",
              "      <th>Current Ver</th>\n",
              "      <th>Android Ver</th>\n",
              "    </tr>\n",
              "  </thead>\n",
              "  <tbody>\n",
              "    <tr>\n",
              "      <th>1871</th>\n",
              "      <td>1871</td>\n",
              "      <td>8 Ball Pool</td>\n",
              "      <td>GAME</td>\n",
              "      <td>4.5</td>\n",
              "      <td>14201891</td>\n",
              "      <td>52M</td>\n",
              "      <td>100,000,000+</td>\n",
              "      <td>Free</td>\n",
              "      <td>0</td>\n",
              "      <td>Everyone</td>\n",
              "      <td>Sports</td>\n",
              "      <td>July 31, 2018</td>\n",
              "      <td>4.0.0</td>\n",
              "      <td>4.0.3 and up</td>\n",
              "    </tr>\n",
              "    <tr>\n",
              "      <th>3953</th>\n",
              "      <td>3953</td>\n",
              "      <td>8 Ball Pool</td>\n",
              "      <td>SPORTS</td>\n",
              "      <td>4.5</td>\n",
              "      <td>14184910</td>\n",
              "      <td>52M</td>\n",
              "      <td>100,000,000+</td>\n",
              "      <td>Free</td>\n",
              "      <td>0</td>\n",
              "      <td>Everyone</td>\n",
              "      <td>Sports</td>\n",
              "      <td>July 31, 2018</td>\n",
              "      <td>4.0.0</td>\n",
              "      <td>4.0.3 and up</td>\n",
              "    </tr>\n",
              "  </tbody>\n",
              "</table>\n",
              "</div>"
            ],
            "text/plain": [
              "      index          App Category  ...   Last Updated Current Ver   Android Ver\n",
              "1871   1871  8 Ball Pool     GAME  ...  July 31, 2018       4.0.0  4.0.3 and up\n",
              "3953   3953  8 Ball Pool   SPORTS  ...  July 31, 2018       4.0.0  4.0.3 and up\n",
              "\n",
              "[2 rows x 14 columns]"
            ]
          },
          "metadata": {},
          "execution_count": 158
        }
      ]
    },
    {
      "cell_type": "code",
      "metadata": {
        "id": "Ky7vBrq00hnB"
      },
      "source": [
        "playstore_df = playstore_df.sort_values('Reviews', ascending=False).drop_duplicates(['App', 'Category'])"
      ],
      "execution_count": 157,
      "outputs": []
    },
    {
      "cell_type": "code",
      "metadata": {
        "colab": {
          "base_uri": "https://localhost:8080/"
        },
        "id": "fiqNc0lTWtqW",
        "outputId": "09805195-25e6-4284-b12b-23c7f68530df"
      },
      "source": [
        "playstore_df.duplicated().value_counts()"
      ],
      "execution_count": 124,
      "outputs": [
        {
          "output_type": "execute_result",
          "data": {
            "text/plain": [
              "False    9745\n",
              "dtype: int64"
            ]
          },
          "metadata": {},
          "execution_count": 124
        }
      ]
    },
    {
      "cell_type": "code",
      "metadata": {
        "colab": {
          "base_uri": "https://localhost:8080/"
        },
        "id": "a5aeSS3GkJEo",
        "outputId": "74476b8c-a649-4e74-e579-d29e68cd3c3f"
      },
      "source": [
        "playstore_df.info()"
      ],
      "execution_count": 125,
      "outputs": [
        {
          "output_type": "stream",
          "name": "stdout",
          "text": [
            "<class 'pandas.core.frame.DataFrame'>\n",
            "Int64Index: 9745 entries, 2989 to 4177\n",
            "Data columns (total 14 columns):\n",
            " #   Column          Non-Null Count  Dtype  \n",
            "---  ------          --------------  -----  \n",
            " 0   index           9745 non-null   int64  \n",
            " 1   App             9745 non-null   object \n",
            " 2   Category        9745 non-null   object \n",
            " 3   Rating          8281 non-null   float64\n",
            " 4   Reviews         9745 non-null   object \n",
            " 5   Size            9745 non-null   object \n",
            " 6   Installs        9745 non-null   object \n",
            " 7   Type            9744 non-null   object \n",
            " 8   Price           9745 non-null   object \n",
            " 9   Content Rating  9744 non-null   object \n",
            " 10  Genres          9745 non-null   object \n",
            " 11  Last Updated    9745 non-null   object \n",
            " 12  Current Ver     9737 non-null   object \n",
            " 13  Android Ver     9742 non-null   object \n",
            "dtypes: float64(1), int64(1), object(12)\n",
            "memory usage: 1.1+ MB\n"
          ]
        }
      ]
    },
    {
      "cell_type": "code",
      "metadata": {
        "colab": {
          "base_uri": "https://localhost:8080/"
        },
        "id": "n6F2WSxF9Plz",
        "outputId": "ed5a48a9-54cb-4138-ca4f-fdd99c12feb4"
      },
      "source": [
        "playstore_df['Installs'].value_counts()"
      ],
      "execution_count": 129,
      "outputs": [
        {
          "output_type": "execute_result",
          "data": {
            "text/plain": [
              "1,000,000+        1429\n",
              "100,000+          1114\n",
              "10,000+           1029\n",
              "10,000,000+        959\n",
              "1,000+             887\n",
              "100+               709\n",
              "5,000,000+         620\n",
              "500,000+           509\n",
              "50,000+            468\n",
              "5,000+             467\n",
              "10+                384\n",
              "500+               328\n",
              "50,000,000+        211\n",
              "50+                204\n",
              "100,000,000+       204\n",
              "5+                  82\n",
              "1+                  67\n",
              "500,000,000+        27\n",
              "1,000,000,000+      21\n",
              "0+                  14\n",
              "Name: Installs, dtype: int64"
            ]
          },
          "metadata": {},
          "execution_count": 129
        }
      ]
    },
    {
      "cell_type": "code",
      "metadata": {
        "id": "VnInbFT49P5Z"
      },
      "source": [
        "#function to convert strings to int\n",
        "def string_to_int(string):\n",
        "  string=string.replace(',','')\n",
        "  return int(string[:-1])"
      ],
      "execution_count": 130,
      "outputs": []
    },
    {
      "cell_type": "code",
      "metadata": {
        "id": "FvUPyo6Z9lk8"
      },
      "source": [
        "playstore_df['Installs'] = playstore_df['Installs'].apply(string_to_int)"
      ],
      "execution_count": 131,
      "outputs": []
    },
    {
      "cell_type": "code",
      "metadata": {
        "colab": {
          "base_uri": "https://localhost:8080/"
        },
        "id": "gvneC88O91I4",
        "outputId": "f63dde75-4d52-4632-92c6-f78a12f69602"
      },
      "source": [
        "playstore_df['Installs'].value_counts()"
      ],
      "execution_count": 132,
      "outputs": [
        {
          "output_type": "execute_result",
          "data": {
            "text/plain": [
              "1000000       1429\n",
              "100000        1114\n",
              "10000         1029\n",
              "10000000       959\n",
              "1000           887\n",
              "100            709\n",
              "5000000        620\n",
              "500000         509\n",
              "50000          468\n",
              "5000           467\n",
              "10             384\n",
              "500            328\n",
              "50000000       211\n",
              "50             204\n",
              "100000000      204\n",
              "5               82\n",
              "1               67\n",
              "500000000       27\n",
              "1000000000      21\n",
              "0               14\n",
              "Name: Installs, dtype: int64"
            ]
          },
          "metadata": {},
          "execution_count": 132
        }
      ]
    },
    {
      "cell_type": "code",
      "metadata": {
        "id": "Y_Jzl62X99TH"
      },
      "source": [
        "#For Review\n",
        "def string_to_integer(string):\n",
        "  return int(string)"
      ],
      "execution_count": 133,
      "outputs": []
    },
    {
      "cell_type": "code",
      "metadata": {
        "id": "BaLA90KL-OEO"
      },
      "source": [
        "playstore_df['Reviews'] = playstore_df['Reviews'].apply(string_to_integer)"
      ],
      "execution_count": 134,
      "outputs": []
    },
    {
      "cell_type": "code",
      "metadata": {
        "colab": {
          "base_uri": "https://localhost:8080/"
        },
        "id": "XXebOZCv-LZQ",
        "outputId": "37a5d5d0-480a-4357-e913-8b592e254b97"
      },
      "source": [
        "playstore_df['Reviews']"
      ],
      "execution_count": 135,
      "outputs": [
        {
          "output_type": "execute_result",
          "data": {
            "text/plain": [
              "2989    9992\n",
              "4970     999\n",
              "2723    9975\n",
              "3079    9971\n",
              "3229    9971\n",
              "        ... \n",
              "7217       0\n",
              "6492       0\n",
              "7221       0\n",
              "5480       0\n",
              "4177       0\n",
              "Name: Reviews, Length: 9733, dtype: int64"
            ]
          },
          "metadata": {},
          "execution_count": 135
        }
      ]
    },
    {
      "cell_type": "code",
      "metadata": {
        "colab": {
          "base_uri": "https://localhost:8080/"
        },
        "id": "4G_NLhI3-YIy",
        "outputId": "a020b81c-cc50-4b95-e2b0-2836bf975501"
      },
      "source": [
        "playstore_df['Price']"
      ],
      "execution_count": 136,
      "outputs": [
        {
          "output_type": "execute_result",
          "data": {
            "text/plain": [
              "2989         0\n",
              "4970         0\n",
              "2723         0\n",
              "3079         0\n",
              "3229         0\n",
              "         ...  \n",
              "7217         0\n",
              "6492         0\n",
              "7221         0\n",
              "5480     $0.99\n",
              "4177    $25.99\n",
              "Name: Price, Length: 9733, dtype: object"
            ]
          },
          "metadata": {},
          "execution_count": 136
        }
      ]
    },
    {
      "cell_type": "code",
      "metadata": {
        "id": "SVXZwuAFXPxy"
      },
      "source": [
        "#function for price (All prices are in $)\n",
        "def string_to_float(string):\n",
        "  if string=='0':\n",
        "    return 0\n",
        "  else:\n",
        "    return float(string[1:])"
      ],
      "execution_count": 137,
      "outputs": []
    },
    {
      "cell_type": "code",
      "metadata": {
        "id": "BoN18Q2LXgx2"
      },
      "source": [
        "playstore_df['Price']=playstore_df['Price'].apply(string_to_float)"
      ],
      "execution_count": 138,
      "outputs": []
    },
    {
      "cell_type": "code",
      "metadata": {
        "colab": {
          "base_uri": "https://localhost:8080/"
        },
        "id": "4Qp0gj6lXs1-",
        "outputId": "52a3d537-2c3c-4fa8-f16d-35404538d9f1"
      },
      "source": [
        "playstore_df['Price'].describe()"
      ],
      "execution_count": 139,
      "outputs": [
        {
          "output_type": "execute_result",
          "data": {
            "text/plain": [
              "count    9733.000000\n",
              "mean        1.091610\n",
              "std        16.788333\n",
              "min         0.000000\n",
              "25%         0.000000\n",
              "50%         0.000000\n",
              "75%         0.000000\n",
              "max       400.000000\n",
              "Name: Price, dtype: float64"
            ]
          },
          "metadata": {},
          "execution_count": 139
        }
      ]
    },
    {
      "cell_type": "code",
      "metadata": {
        "id": "3EX7RxvRC0nX",
        "colab": {
          "base_uri": "https://localhost:8080/"
        },
        "outputId": "0d01db43-ff0b-4d8d-9d93-ae6325396c3d"
      },
      "source": [
        "#for better idea\n",
        "playstore_df['Price'].value_counts()"
      ],
      "execution_count": 140,
      "outputs": [
        {
          "output_type": "execute_result",
          "data": {
            "text/plain": [
              "0.00      8978\n",
              "0.99       143\n",
              "2.99       124\n",
              "1.99        73\n",
              "4.99        70\n",
              "          ... \n",
              "299.99       1\n",
              "154.99       1\n",
              "1.59         1\n",
              "46.99        1\n",
              "400.00       1\n",
              "Name: Price, Length: 92, dtype: int64"
            ]
          },
          "metadata": {},
          "execution_count": 140
        }
      ]
    },
    {
      "cell_type": "code",
      "metadata": {
        "colab": {
          "base_uri": "https://localhost:8080/"
        },
        "id": "l1p9g__cX4EO",
        "outputId": "11074e25-1410-46ad-caf1-0088eaa7a824"
      },
      "source": [
        "playstore_df.isnull().sum()"
      ],
      "execution_count": 141,
      "outputs": [
        {
          "output_type": "execute_result",
          "data": {
            "text/plain": [
              "index                0\n",
              "App                  0\n",
              "Category             0\n",
              "Rating            1459\n",
              "Reviews              0\n",
              "Size                 0\n",
              "Installs             0\n",
              "Type                 0\n",
              "Price                0\n",
              "Content Rating       0\n",
              "Genres               0\n",
              "Last Updated         0\n",
              "Current Ver          0\n",
              "Android Ver          0\n",
              "dtype: int64"
            ]
          },
          "metadata": {},
          "execution_count": 141
        }
      ]
    },
    {
      "cell_type": "code",
      "metadata": {
        "colab": {
          "base_uri": "https://localhost:8080/"
        },
        "id": "Gwn3pE9FYexX",
        "outputId": "403a095e-ebbd-4cb7-8ea2-cc6a681ec1ca"
      },
      "source": [
        "print(playstore_df['Rating'].median())"
      ],
      "execution_count": 142,
      "outputs": [
        {
          "output_type": "stream",
          "name": "stdout",
          "text": [
            "4.3\n"
          ]
        }
      ]
    },
    {
      "cell_type": "code",
      "metadata": {
        "id": "Hj1sazVAbDB1"
      },
      "source": [
        "playstore_df['Rating'].fillna(float(playstore_df['Rating'].median()),inplace=True)"
      ],
      "execution_count": 143,
      "outputs": []
    },
    {
      "cell_type": "code",
      "metadata": {
        "colab": {
          "base_uri": "https://localhost:8080/"
        },
        "id": "1RrvxzIShXjt",
        "outputId": "335f3e1f-5308-4763-97b2-18dc36263530"
      },
      "source": [
        "playstore_df['Rating'].isnull().sum()"
      ],
      "execution_count": 144,
      "outputs": [
        {
          "output_type": "execute_result",
          "data": {
            "text/plain": [
              "0"
            ]
          },
          "metadata": {},
          "execution_count": 144
        }
      ]
    },
    {
      "cell_type": "code",
      "metadata": {
        "colab": {
          "base_uri": "https://localhost:8080/"
        },
        "id": "QrhReNJqhrNx",
        "outputId": "01dcc4a1-dc50-4ad9-f451-0a4e3aa27677"
      },
      "source": [
        "playstore_df.isnull().sum()"
      ],
      "execution_count": 145,
      "outputs": [
        {
          "output_type": "execute_result",
          "data": {
            "text/plain": [
              "index             0\n",
              "App               0\n",
              "Category          0\n",
              "Rating            0\n",
              "Reviews           0\n",
              "Size              0\n",
              "Installs          0\n",
              "Type              0\n",
              "Price             0\n",
              "Content Rating    0\n",
              "Genres            0\n",
              "Last Updated      0\n",
              "Current Ver       0\n",
              "Android Ver       0\n",
              "dtype: int64"
            ]
          },
          "metadata": {},
          "execution_count": 145
        }
      ]
    },
    {
      "cell_type": "code",
      "metadata": {
        "colab": {
          "base_uri": "https://localhost:8080/"
        },
        "id": "5pgqaQjMhxNk",
        "outputId": "66eca995-dc57-4c49-ae26-73c9d6317e2e"
      },
      "source": [
        "df_size_unique = playstore_df.Size.unique()\n",
        "df_size_unique"
      ],
      "execution_count": 146,
      "outputs": [
        {
          "output_type": "execute_result",
          "data": {
            "text/plain": [
              "array(['31M', '91k', '18M', '33M', '22M', 'Varies with device', '5.5M',\n",
              "       '10M', '3.7M', '38M', '96M', '15M', '97M', '2.9M', '2.8M', '3.9M',\n",
              "       '49M', '3.2M', '75M', '9.4M', '19M', '71M', '13M', '6.6M', '1.1M',\n",
              "       '63M', '2.7M', '39M', '51M', '74M', '99M', '27M', '40M', '59M',\n",
              "       '4.5M', '37M', '55M', '16M', '70M', '7.2M', '73k', '2.0M', '6.3M',\n",
              "       '3.4M', '9.7M', '9.9M', '720k', '14M', '7.9M', '45M', '20M',\n",
              "       '6.7M', '1.3M', '87M', '8.9M', '2.6M', '598k', '3.5M', '1.9M',\n",
              "       '23M', '3.6M', '26M', '30M', '5.1M', '53M', '9.0M', '93k', '4.1M',\n",
              "       '28M', '25M', '2.5M', '3.8M', '1.5M', '12M', '54M', '1.0M', '79M',\n",
              "       '5.8M', '82M', '4.7M', '58M', '7.6M', '61M', '7.0M', '64M', '3.1M',\n",
              "       '118k', '696k', '44M', '411k', '1.2M', '17M', '60M', '57M', '43M',\n",
              "       '21M', '11M', '9.3M', '6.5M', '3.0M', '1.7M', '6.1M', '387k',\n",
              "       '8.7M', '9.2M', '35M', '7.3M', '5.4M', '5.0M', '98M', '5.6M',\n",
              "       '5.7M', '924k', '1.6M', '36M', '2.4M', '383k', '8.6M', '56M',\n",
              "       '4.3M', '67M', '552k', '2.1M', '47M', '5.9M', '32M', '80M', '70k',\n",
              "       '4.0M', '76M', '335k', '8.3M', '6.0M', '24M', '42M', '196k', '84M',\n",
              "       '4.6M', '1.8M', '323k', '8.8M', '2.3M', '77M', '6.9M', '6.8M',\n",
              "       '51k', '3.3M', '169k', '4.2M', '780k', '4.8M', '992k', '4.9M',\n",
              "       '8.4M', '95M', '29M', '6.4M', '939k', '34M', '73M', '7.4M', '9.6M',\n",
              "       '8.0M', '66M', '5.3M', '41M', '9.1M', '7.7M', '68M', '8.5M',\n",
              "       '309k', '7.5M', '9.5M', '46M', '91M', '459k', '601k', '78M', '88M',\n",
              "       '48M', '92M', '85M', '414k', '8.2M', '4.4M', '62M', '50M', '7.8M',\n",
              "       '93M', '52M', '2.2M', '8.1M', '6.2M', '749k', '364k', '201k',\n",
              "       '375k', '322k', '787k', '812k', '72M', '7.1M', '292k', '83M',\n",
              "       '1.4M', '69M', '329k', '544k', '412k', '691k', '39k', '81M',\n",
              "       '192k', '81k', '308k', '9.8M', '5.2M', '853k', '444k', '951k',\n",
              "       '334k', '61k', '865k', '72k', '232k', '499k', '65M', '809k',\n",
              "       '728k', '17k', '556k', '90M', '100M', '470k', '54k', '837k',\n",
              "       '417k', '175k', '592k', '458k', '89k', '234k', '41k', '18k',\n",
              "       '704k', '314k', '28k', '89M', '903k', '94M', '186k', '259k',\n",
              "       '245k', '288k', '430k', '506k', '636k', '861k', '629k', '902k',\n",
              "       '597k', '420k', '58k', '29k', '965k', '879k', '270k', '26k',\n",
              "       '161k', '562k', '86M', '176k', '842k', '609k', '920k', '619k',\n",
              "       '526k', '34k', '656k', '554k', '930k', '986k', '353k', '318k',\n",
              "       '306k', '23k', '498k', '511k', '33k', '840k', '569k', '892k',\n",
              "       '881k', '251k', '122k', '916k', '24k', '862k', '266k', '756k',\n",
              "       '676k', '141k', '473k', '857k', '280k', '467k', '313k', '914k',\n",
              "       '239k', '437k', '25k', '74k', '208k', '206k', '228k', '454k',\n",
              "       '540k', '887k', '721k', '14k', '961k', '97k', '10.0M', '55k',\n",
              "       '948k', '108k', '154k', '319k', '585k', '153k', '818k', '121k',\n",
              "       '785k', '772k', '600k', '647k', '714k', '50k', '193k', '975k',\n",
              "       '203k', '160k', '626k', '976k', '44k', '478k', '872k', '860k',\n",
              "       '173k', '8.5k', '221k', '283k', '954k', '351k', '371k', '801k',\n",
              "       '545k', '82k', '982k', '953k', '811k', '899k', '103k', '200k',\n",
              "       '376k', '210k', '730k', '78k', '116k', '957k', '705k', '238k',\n",
              "       '981k', '970k', '219k', '716k', '317k', '48k', '994k', '496k',\n",
              "       '816k', '525k', '157k', '523k', '67k', '963k', '246k', '170k',\n",
              "       '144k', '293k', '743k', '779k', '257k', '373k', '253k', '460k',\n",
              "       '164k', '784k', '20k', '240k', '226k', '442k', '485k', '209k',\n",
              "       '754k', '400k', '45k', '778k', '27k', '429k', '143k', '500k',\n",
              "       '942k', '624k', '241k', '695k', '713k', '79k', '980k', '782k',\n",
              "       '613k', '775k', '582k', '350k', '746k', '551k', '220k', '608k',\n",
              "       '190k', '404k', '847k', '643k', '378k', '516k', '717k', '514k',\n",
              "       '663k', '421k', '655k', '885k', '683k', '874k', '172k', '921k',\n",
              "       '1020k', '904k', '898k', '475k', '191k', '913k', '243k', '642k',\n",
              "       '940k', '518k', '549k', '688k', '269k'], dtype=object)"
            ]
          },
          "metadata": {},
          "execution_count": 146
        }
      ]
    },
    {
      "cell_type": "code",
      "metadata": {
        "id": "oUCSqjuHim6D"
      },
      "source": [
        ""
      ],
      "execution_count": 146,
      "outputs": []
    }
  ]
}