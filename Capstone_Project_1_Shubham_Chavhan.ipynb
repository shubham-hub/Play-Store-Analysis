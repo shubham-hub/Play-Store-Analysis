{
  "nbformat": 4,
  "nbformat_minor": 0,
  "metadata": {
    "colab": {
      "name": "Capstone_Project_1 - Shubham_Chavhan.ipynb",
      "provenance": [],
      "collapsed_sections": [],
      "authorship_tag": "ABX9TyMsOQQozvuIx9Cy3e0SVE7A",
      "include_colab_link": true
    },
    "kernelspec": {
      "name": "python3",
      "display_name": "Python 3"
    },
    "language_info": {
      "name": "python"
    }
  },
  "cells": [
    {
      "cell_type": "markdown",
      "metadata": {
        "id": "view-in-github",
        "colab_type": "text"
      },
      "source": [
        "<a href=\"https://colab.research.google.com/github/shubham-hub/Play-Store-Analysis/blob/main/Capstone_Project_1_Shubham_Chavhan.ipynb\" target=\"_parent\"><img src=\"https://colab.research.google.com/assets/colab-badge.svg\" alt=\"Open In Colab\"/></a>"
      ]
    },
    {
      "cell_type": "markdown",
      "source": [
        "## <b> The Play Store apps data has enormous potential to drive app-making businesses to success. Actionable insights can be drawn for developers to work on and capture the Android market. </b>\n",
        "\n",
        "## <b> Each app (row) has values for catergory, rating, size, and more. Another dataset contains customer reviews of the android apps.</b>\n",
        "\n",
        "## <b> Explore and analyze the data to discover key factors responsible for app engagement and success. </b>"
      ],
      "metadata": {
        "id": "gplbdQBfuABf"
      }
    },
    {
      "cell_type": "markdown",
      "source": [
        "## **Import the required libraries**"
      ],
      "metadata": {
        "id": "y6vytpxHuQui"
      }
    },
    {
      "cell_type": "code",
      "metadata": {
        "id": "cBNfPsEGWwOt"
      },
      "source": [
        "import pandas as pd\n",
        "import numpy as np\n",
        "import seaborn as sns\n",
        "import matplotlib.pyplot as plt\n",
        "from datetime import datetime\n",
        "from datetime import date"
      ],
      "execution_count": 2,
      "outputs": []
    },
    {
      "cell_type": "markdown",
      "source": [
        "## **Mount Google Drive**\n"
      ],
      "metadata": {
        "id": "eyGVnvLUux_u"
      }
    },
    {
      "cell_type": "code",
      "metadata": {
        "colab": {
          "base_uri": "https://localhost:8080/"
        },
        "id": "Hv2IA-DccjRI",
        "outputId": "9f5bd7b8-3929-49e8-88fd-de2f4a2e9910"
      },
      "source": [
        "from google.colab import drive\n",
        "drive.mount('/content/drive')"
      ],
      "execution_count": 4,
      "outputs": [
        {
          "output_type": "stream",
          "name": "stdout",
          "text": [
            "Mounted at /content/drive\n"
          ]
        }
      ]
    },
    {
      "cell_type": "markdown",
      "source": [
        "##**Getting data from CSV file using Pandas**\n"
      ],
      "metadata": {
        "id": "KGTePmfQvDGV"
      }
    },
    {
      "cell_type": "code",
      "metadata": {
        "id": "jbYVgYFfcrM5"
      },
      "source": [
        "#Creating dataframes for both playstore data as well as user reviews data\n",
        "df_play_store = pd.read_csv('/content/drive/MyDrive/Play_Store_Project/Play Store Data.csv')\n",
        "df_user_review = pd.read_csv('/content/drive/MyDrive/Play_Store_Project/User Reviews.csv')"
      ],
      "execution_count": 7,
      "outputs": []
    },
    {
      "cell_type": "markdown",
      "source": [
        "### We have two sets of data. One contains data of Play Store apps while the another dataset contains customer reviews of the android apps.We stored them in variables **'df_play_store'** and **'df_user_review'** respectively.\n"
      ],
      "metadata": {
        "id": "7hE2CgH-vS4S"
      }
    },
    {
      "cell_type": "markdown",
      "source": [
        "## **For first dataframe.**"
      ],
      "metadata": {
        "id": "uc3m96fgCLA2"
      }
    },
    {
      "cell_type": "code",
      "metadata": {
        "colab": {
          "base_uri": "https://localhost:8080/",
          "height": 293
        },
        "id": "kLJPw_r8ehTV",
        "outputId": "dd0b74bd-88f2-4c57-a7c8-bdfbb7280fae"
      },
      "source": [
        "df_play_store.head()"
      ],
      "execution_count": null,
      "outputs": [
        {
          "output_type": "execute_result",
          "data": {
            "text/html": [
              "<div>\n",
              "<style scoped>\n",
              "    .dataframe tbody tr th:only-of-type {\n",
              "        vertical-align: middle;\n",
              "    }\n",
              "\n",
              "    .dataframe tbody tr th {\n",
              "        vertical-align: top;\n",
              "    }\n",
              "\n",
              "    .dataframe thead th {\n",
              "        text-align: right;\n",
              "    }\n",
              "</style>\n",
              "<table border=\"1\" class=\"dataframe\">\n",
              "  <thead>\n",
              "    <tr style=\"text-align: right;\">\n",
              "      <th></th>\n",
              "      <th>App</th>\n",
              "      <th>Category</th>\n",
              "      <th>Rating</th>\n",
              "      <th>Reviews</th>\n",
              "      <th>Size</th>\n",
              "      <th>Installs</th>\n",
              "      <th>Type</th>\n",
              "      <th>Price</th>\n",
              "      <th>Content Rating</th>\n",
              "      <th>Genres</th>\n",
              "      <th>Last Updated</th>\n",
              "      <th>Current Ver</th>\n",
              "      <th>Android Ver</th>\n",
              "    </tr>\n",
              "  </thead>\n",
              "  <tbody>\n",
              "    <tr>\n",
              "      <th>0</th>\n",
              "      <td>Photo Editor &amp; Candy Camera &amp; Grid &amp; ScrapBook</td>\n",
              "      <td>ART_AND_DESIGN</td>\n",
              "      <td>4.1</td>\n",
              "      <td>159</td>\n",
              "      <td>19M</td>\n",
              "      <td>10,000+</td>\n",
              "      <td>Free</td>\n",
              "      <td>0</td>\n",
              "      <td>Everyone</td>\n",
              "      <td>Art &amp; Design</td>\n",
              "      <td>January 7, 2018</td>\n",
              "      <td>1.0.0</td>\n",
              "      <td>4.0.3 and up</td>\n",
              "    </tr>\n",
              "    <tr>\n",
              "      <th>1</th>\n",
              "      <td>Coloring book moana</td>\n",
              "      <td>ART_AND_DESIGN</td>\n",
              "      <td>3.9</td>\n",
              "      <td>967</td>\n",
              "      <td>14M</td>\n",
              "      <td>500,000+</td>\n",
              "      <td>Free</td>\n",
              "      <td>0</td>\n",
              "      <td>Everyone</td>\n",
              "      <td>Art &amp; Design;Pretend Play</td>\n",
              "      <td>January 15, 2018</td>\n",
              "      <td>2.0.0</td>\n",
              "      <td>4.0.3 and up</td>\n",
              "    </tr>\n",
              "    <tr>\n",
              "      <th>2</th>\n",
              "      <td>U Launcher Lite – FREE Live Cool Themes, Hide ...</td>\n",
              "      <td>ART_AND_DESIGN</td>\n",
              "      <td>4.7</td>\n",
              "      <td>87510</td>\n",
              "      <td>8.7M</td>\n",
              "      <td>5,000,000+</td>\n",
              "      <td>Free</td>\n",
              "      <td>0</td>\n",
              "      <td>Everyone</td>\n",
              "      <td>Art &amp; Design</td>\n",
              "      <td>August 1, 2018</td>\n",
              "      <td>1.2.4</td>\n",
              "      <td>4.0.3 and up</td>\n",
              "    </tr>\n",
              "    <tr>\n",
              "      <th>3</th>\n",
              "      <td>Sketch - Draw &amp; Paint</td>\n",
              "      <td>ART_AND_DESIGN</td>\n",
              "      <td>4.5</td>\n",
              "      <td>215644</td>\n",
              "      <td>25M</td>\n",
              "      <td>50,000,000+</td>\n",
              "      <td>Free</td>\n",
              "      <td>0</td>\n",
              "      <td>Teen</td>\n",
              "      <td>Art &amp; Design</td>\n",
              "      <td>June 8, 2018</td>\n",
              "      <td>Varies with device</td>\n",
              "      <td>4.2 and up</td>\n",
              "    </tr>\n",
              "    <tr>\n",
              "      <th>4</th>\n",
              "      <td>Pixel Draw - Number Art Coloring Book</td>\n",
              "      <td>ART_AND_DESIGN</td>\n",
              "      <td>4.3</td>\n",
              "      <td>967</td>\n",
              "      <td>2.8M</td>\n",
              "      <td>100,000+</td>\n",
              "      <td>Free</td>\n",
              "      <td>0</td>\n",
              "      <td>Everyone</td>\n",
              "      <td>Art &amp; Design;Creativity</td>\n",
              "      <td>June 20, 2018</td>\n",
              "      <td>1.1</td>\n",
              "      <td>4.4 and up</td>\n",
              "    </tr>\n",
              "  </tbody>\n",
              "</table>\n",
              "</div>"
            ],
            "text/plain": [
              "                                                 App  ...   Android Ver\n",
              "0     Photo Editor & Candy Camera & Grid & ScrapBook  ...  4.0.3 and up\n",
              "1                                Coloring book moana  ...  4.0.3 and up\n",
              "2  U Launcher Lite – FREE Live Cool Themes, Hide ...  ...  4.0.3 and up\n",
              "3                              Sketch - Draw & Paint  ...    4.2 and up\n",
              "4              Pixel Draw - Number Art Coloring Book  ...    4.4 and up\n",
              "\n",
              "[5 rows x 13 columns]"
            ]
          },
          "metadata": {},
          "execution_count": 4
        }
      ]
    },
    {
      "cell_type": "markdown",
      "source": [
        "\n",
        "\n",
        "1. ### Playstore dataset contains information on apps of different catagories with their ratings, size, number of installs, type and lot more like we normally see in our play store. Almost similar to data that are essential for success of any app.\n",
        "2. ### From this we can come to a point that primary measure check success of any app is the number of installs.While factors affecting success like reviews, rating and other are important.\n",
        "\n",
        "### **Let's check basic information of play store data for different apps.**"
      ],
      "metadata": {
        "id": "tmWtv1V51k8H"
      }
    },
    {
      "cell_type": "code",
      "metadata": {
        "colab": {
          "base_uri": "https://localhost:8080/"
        },
        "id": "CEKK0QItevq5",
        "outputId": "2e73f563-2a96-4ccd-b5b7-98bee4155a06"
      },
      "source": [
        "df_play_store.info()"
      ],
      "execution_count": null,
      "outputs": [
        {
          "output_type": "stream",
          "name": "stdout",
          "text": [
            "<class 'pandas.core.frame.DataFrame'>\n",
            "RangeIndex: 10841 entries, 0 to 10840\n",
            "Data columns (total 13 columns):\n",
            " #   Column          Non-Null Count  Dtype  \n",
            "---  ------          --------------  -----  \n",
            " 0   App             10841 non-null  object \n",
            " 1   Category        10841 non-null  object \n",
            " 2   Rating          9367 non-null   float64\n",
            " 3   Reviews         10841 non-null  object \n",
            " 4   Size            10841 non-null  object \n",
            " 5   Installs        10841 non-null  object \n",
            " 6   Type            10840 non-null  object \n",
            " 7   Price           10841 non-null  object \n",
            " 8   Content Rating  10840 non-null  object \n",
            " 9   Genres          10841 non-null  object \n",
            " 10  Last Updated    10841 non-null  object \n",
            " 11  Current Ver     10833 non-null  object \n",
            " 12  Android Ver     10838 non-null  object \n",
            "dtypes: float64(1), object(12)\n",
            "memory usage: 1.1+ MB\n"
          ]
        }
      ]
    },
    {
      "cell_type": "markdown",
      "source": [
        "\n",
        "###Rating column contains mostly null values. Will have to deal with those and other columns too.\n",
        "\n",
        "### **Let's handle duplicates present in dataset**"
      ],
      "metadata": {
        "id": "ilS63KSZw-jG"
      }
    },
    {
      "cell_type": "code",
      "metadata": {
        "id": "eW6fL4WQiYtv"
      },
      "source": [
        "#this should be add \n",
        "#df_play_store = playstore_df.reset_index()"
      ],
      "execution_count": null,
      "outputs": []
    },
    {
      "cell_type": "code",
      "source": [
        "df_play_store.head()"
      ],
      "metadata": {
        "id": "L-Di-3m53qeZ",
        "outputId": "5dc74616-935d-42d2-c8c1-c5294754f56a",
        "colab": {
          "base_uri": "https://localhost:8080/",
          "height": 293
        }
      },
      "execution_count": null,
      "outputs": [
        {
          "output_type": "execute_result",
          "data": {
            "text/html": [
              "<div>\n",
              "<style scoped>\n",
              "    .dataframe tbody tr th:only-of-type {\n",
              "        vertical-align: middle;\n",
              "    }\n",
              "\n",
              "    .dataframe tbody tr th {\n",
              "        vertical-align: top;\n",
              "    }\n",
              "\n",
              "    .dataframe thead th {\n",
              "        text-align: right;\n",
              "    }\n",
              "</style>\n",
              "<table border=\"1\" class=\"dataframe\">\n",
              "  <thead>\n",
              "    <tr style=\"text-align: right;\">\n",
              "      <th></th>\n",
              "      <th>App</th>\n",
              "      <th>Category</th>\n",
              "      <th>Rating</th>\n",
              "      <th>Reviews</th>\n",
              "      <th>Size</th>\n",
              "      <th>Installs</th>\n",
              "      <th>Type</th>\n",
              "      <th>Price</th>\n",
              "      <th>Content Rating</th>\n",
              "      <th>Genres</th>\n",
              "      <th>Last Updated</th>\n",
              "      <th>Current Ver</th>\n",
              "      <th>Android Ver</th>\n",
              "    </tr>\n",
              "  </thead>\n",
              "  <tbody>\n",
              "    <tr>\n",
              "      <th>0</th>\n",
              "      <td>Photo Editor &amp; Candy Camera &amp; Grid &amp; ScrapBook</td>\n",
              "      <td>ART_AND_DESIGN</td>\n",
              "      <td>4.1</td>\n",
              "      <td>159</td>\n",
              "      <td>19M</td>\n",
              "      <td>10,000+</td>\n",
              "      <td>Free</td>\n",
              "      <td>0</td>\n",
              "      <td>Everyone</td>\n",
              "      <td>Art &amp; Design</td>\n",
              "      <td>January 7, 2018</td>\n",
              "      <td>1.0.0</td>\n",
              "      <td>4.0.3 and up</td>\n",
              "    </tr>\n",
              "    <tr>\n",
              "      <th>1</th>\n",
              "      <td>Coloring book moana</td>\n",
              "      <td>ART_AND_DESIGN</td>\n",
              "      <td>3.9</td>\n",
              "      <td>967</td>\n",
              "      <td>14M</td>\n",
              "      <td>500,000+</td>\n",
              "      <td>Free</td>\n",
              "      <td>0</td>\n",
              "      <td>Everyone</td>\n",
              "      <td>Art &amp; Design;Pretend Play</td>\n",
              "      <td>January 15, 2018</td>\n",
              "      <td>2.0.0</td>\n",
              "      <td>4.0.3 and up</td>\n",
              "    </tr>\n",
              "    <tr>\n",
              "      <th>2</th>\n",
              "      <td>U Launcher Lite – FREE Live Cool Themes, Hide ...</td>\n",
              "      <td>ART_AND_DESIGN</td>\n",
              "      <td>4.7</td>\n",
              "      <td>87510</td>\n",
              "      <td>8.7M</td>\n",
              "      <td>5,000,000+</td>\n",
              "      <td>Free</td>\n",
              "      <td>0</td>\n",
              "      <td>Everyone</td>\n",
              "      <td>Art &amp; Design</td>\n",
              "      <td>August 1, 2018</td>\n",
              "      <td>1.2.4</td>\n",
              "      <td>4.0.3 and up</td>\n",
              "    </tr>\n",
              "    <tr>\n",
              "      <th>3</th>\n",
              "      <td>Sketch - Draw &amp; Paint</td>\n",
              "      <td>ART_AND_DESIGN</td>\n",
              "      <td>4.5</td>\n",
              "      <td>215644</td>\n",
              "      <td>25M</td>\n",
              "      <td>50,000,000+</td>\n",
              "      <td>Free</td>\n",
              "      <td>0</td>\n",
              "      <td>Teen</td>\n",
              "      <td>Art &amp; Design</td>\n",
              "      <td>June 8, 2018</td>\n",
              "      <td>Varies with device</td>\n",
              "      <td>4.2 and up</td>\n",
              "    </tr>\n",
              "    <tr>\n",
              "      <th>4</th>\n",
              "      <td>Pixel Draw - Number Art Coloring Book</td>\n",
              "      <td>ART_AND_DESIGN</td>\n",
              "      <td>4.3</td>\n",
              "      <td>967</td>\n",
              "      <td>2.8M</td>\n",
              "      <td>100,000+</td>\n",
              "      <td>Free</td>\n",
              "      <td>0</td>\n",
              "      <td>Everyone</td>\n",
              "      <td>Art &amp; Design;Creativity</td>\n",
              "      <td>June 20, 2018</td>\n",
              "      <td>1.1</td>\n",
              "      <td>4.4 and up</td>\n",
              "    </tr>\n",
              "  </tbody>\n",
              "</table>\n",
              "</div>"
            ],
            "text/plain": [
              "                                                 App  ...   Android Ver\n",
              "0     Photo Editor & Candy Camera & Grid & ScrapBook  ...  4.0.3 and up\n",
              "1                                Coloring book moana  ...  4.0.3 and up\n",
              "2  U Launcher Lite – FREE Live Cool Themes, Hide ...  ...  4.0.3 and up\n",
              "3                              Sketch - Draw & Paint  ...    4.2 and up\n",
              "4              Pixel Draw - Number Art Coloring Book  ...    4.4 and up\n",
              "\n",
              "[5 rows x 13 columns]"
            ]
          },
          "metadata": {},
          "execution_count": 7
        }
      ]
    },
    {
      "cell_type": "code",
      "source": [
        "# Check for duplicate rows \n",
        "df_play_store[df_play_store.duplicated()].count()"
      ],
      "metadata": {
        "colab": {
          "base_uri": "https://localhost:8080/"
        },
        "id": "y1td_1EpHNgY",
        "outputId": "c40e2fc5-efd4-4fca-847b-fdca0cd566d8"
      },
      "execution_count": null,
      "outputs": [
        {
          "output_type": "execute_result",
          "data": {
            "text/plain": [
              "App               483\n",
              "Category          483\n",
              "Rating            474\n",
              "Reviews           483\n",
              "Size              483\n",
              "Installs          483\n",
              "Type              483\n",
              "Price             483\n",
              "Content Rating    483\n",
              "Genres            483\n",
              "Last Updated      483\n",
              "Current Ver       483\n",
              "Android Ver       483\n",
              "dtype: int64"
            ]
          },
          "metadata": {},
          "execution_count": 8
        }
      ]
    },
    {
      "cell_type": "code",
      "metadata": {
        "colab": {
          "base_uri": "https://localhost:8080/"
        },
        "id": "dASvPwU0041F",
        "outputId": "297d6518-9d0c-4eb0-d9ad-9a49421599ac"
      },
      "source": [
        "df_play_store['App'].value_counts()"
      ],
      "execution_count": null,
      "outputs": [
        {
          "output_type": "execute_result",
          "data": {
            "text/plain": [
              "ROBLOX                                               9\n",
              "CBS Sports App - Scores, News, Stats & Watch Live    8\n",
              "ESPN                                                 7\n",
              "8 Ball Pool                                          7\n",
              "Candy Crush Saga                                     7\n",
              "                                                    ..\n",
              "EY Catalyst Reader                                   1\n",
              "CB Bank Mobile Banking                               1\n",
              "DC N COMPANY ENTERTAINMENT RADIO!                    1\n",
              "Ice Cream Jump                                       1\n",
              "Fish|Hunt FL                                         1\n",
              "Name: App, Length: 9660, dtype: int64"
            ]
          },
          "metadata": {},
          "execution_count": 9
        }
      ]
    },
    {
      "cell_type": "markdown",
      "source": [
        "### From the above value counts by app name, we can see there are duplicate rows for a some applications.\n",
        "### Now checking if those rows for same app is identical or not."
      ],
      "metadata": {
        "id": "8PGHIT9NIaXx"
      }
    },
    {
      "cell_type": "code",
      "metadata": {
        "colab": {
          "base_uri": "https://localhost:8080/",
          "height": 269
        },
        "id": "9m7pC7oJl0XL",
        "outputId": "97e69c32-a3ea-4d59-9070-594980eeb643"
      },
      "source": [
        "# Checking if those rows for same app is identical or not\n",
        "df_play_store[df_play_store['App']=='8 Ball Pool']"
      ],
      "execution_count": null,
      "outputs": [
        {
          "output_type": "execute_result",
          "data": {
            "text/html": [
              "<div>\n",
              "<style scoped>\n",
              "    .dataframe tbody tr th:only-of-type {\n",
              "        vertical-align: middle;\n",
              "    }\n",
              "\n",
              "    .dataframe tbody tr th {\n",
              "        vertical-align: top;\n",
              "    }\n",
              "\n",
              "    .dataframe thead th {\n",
              "        text-align: right;\n",
              "    }\n",
              "</style>\n",
              "<table border=\"1\" class=\"dataframe\">\n",
              "  <thead>\n",
              "    <tr style=\"text-align: right;\">\n",
              "      <th></th>\n",
              "      <th>App</th>\n",
              "      <th>Category</th>\n",
              "      <th>Rating</th>\n",
              "      <th>Reviews</th>\n",
              "      <th>Size</th>\n",
              "      <th>Installs</th>\n",
              "      <th>Type</th>\n",
              "      <th>Price</th>\n",
              "      <th>Content Rating</th>\n",
              "      <th>Genres</th>\n",
              "      <th>Last Updated</th>\n",
              "      <th>Current Ver</th>\n",
              "      <th>Android Ver</th>\n",
              "    </tr>\n",
              "  </thead>\n",
              "  <tbody>\n",
              "    <tr>\n",
              "      <th>1675</th>\n",
              "      <td>8 Ball Pool</td>\n",
              "      <td>GAME</td>\n",
              "      <td>4.5</td>\n",
              "      <td>14198297</td>\n",
              "      <td>52M</td>\n",
              "      <td>100,000,000+</td>\n",
              "      <td>Free</td>\n",
              "      <td>0</td>\n",
              "      <td>Everyone</td>\n",
              "      <td>Sports</td>\n",
              "      <td>July 31, 2018</td>\n",
              "      <td>4.0.0</td>\n",
              "      <td>4.0.3 and up</td>\n",
              "    </tr>\n",
              "    <tr>\n",
              "      <th>1703</th>\n",
              "      <td>8 Ball Pool</td>\n",
              "      <td>GAME</td>\n",
              "      <td>4.5</td>\n",
              "      <td>14198602</td>\n",
              "      <td>52M</td>\n",
              "      <td>100,000,000+</td>\n",
              "      <td>Free</td>\n",
              "      <td>0</td>\n",
              "      <td>Everyone</td>\n",
              "      <td>Sports</td>\n",
              "      <td>July 31, 2018</td>\n",
              "      <td>4.0.0</td>\n",
              "      <td>4.0.3 and up</td>\n",
              "    </tr>\n",
              "    <tr>\n",
              "      <th>1755</th>\n",
              "      <td>8 Ball Pool</td>\n",
              "      <td>GAME</td>\n",
              "      <td>4.5</td>\n",
              "      <td>14200344</td>\n",
              "      <td>52M</td>\n",
              "      <td>100,000,000+</td>\n",
              "      <td>Free</td>\n",
              "      <td>0</td>\n",
              "      <td>Everyone</td>\n",
              "      <td>Sports</td>\n",
              "      <td>July 31, 2018</td>\n",
              "      <td>4.0.0</td>\n",
              "      <td>4.0.3 and up</td>\n",
              "    </tr>\n",
              "    <tr>\n",
              "      <th>1844</th>\n",
              "      <td>8 Ball Pool</td>\n",
              "      <td>GAME</td>\n",
              "      <td>4.5</td>\n",
              "      <td>14200550</td>\n",
              "      <td>52M</td>\n",
              "      <td>100,000,000+</td>\n",
              "      <td>Free</td>\n",
              "      <td>0</td>\n",
              "      <td>Everyone</td>\n",
              "      <td>Sports</td>\n",
              "      <td>July 31, 2018</td>\n",
              "      <td>4.0.0</td>\n",
              "      <td>4.0.3 and up</td>\n",
              "    </tr>\n",
              "    <tr>\n",
              "      <th>1871</th>\n",
              "      <td>8 Ball Pool</td>\n",
              "      <td>GAME</td>\n",
              "      <td>4.5</td>\n",
              "      <td>14201891</td>\n",
              "      <td>52M</td>\n",
              "      <td>100,000,000+</td>\n",
              "      <td>Free</td>\n",
              "      <td>0</td>\n",
              "      <td>Everyone</td>\n",
              "      <td>Sports</td>\n",
              "      <td>July 31, 2018</td>\n",
              "      <td>4.0.0</td>\n",
              "      <td>4.0.3 and up</td>\n",
              "    </tr>\n",
              "    <tr>\n",
              "      <th>1970</th>\n",
              "      <td>8 Ball Pool</td>\n",
              "      <td>GAME</td>\n",
              "      <td>4.5</td>\n",
              "      <td>14201604</td>\n",
              "      <td>52M</td>\n",
              "      <td>100,000,000+</td>\n",
              "      <td>Free</td>\n",
              "      <td>0</td>\n",
              "      <td>Everyone</td>\n",
              "      <td>Sports</td>\n",
              "      <td>July 31, 2018</td>\n",
              "      <td>4.0.0</td>\n",
              "      <td>4.0.3 and up</td>\n",
              "    </tr>\n",
              "    <tr>\n",
              "      <th>3953</th>\n",
              "      <td>8 Ball Pool</td>\n",
              "      <td>SPORTS</td>\n",
              "      <td>4.5</td>\n",
              "      <td>14184910</td>\n",
              "      <td>52M</td>\n",
              "      <td>100,000,000+</td>\n",
              "      <td>Free</td>\n",
              "      <td>0</td>\n",
              "      <td>Everyone</td>\n",
              "      <td>Sports</td>\n",
              "      <td>July 31, 2018</td>\n",
              "      <td>4.0.0</td>\n",
              "      <td>4.0.3 and up</td>\n",
              "    </tr>\n",
              "  </tbody>\n",
              "</table>\n",
              "</div>"
            ],
            "text/plain": [
              "              App Category  Rating  ...   Last Updated Current Ver   Android Ver\n",
              "1675  8 Ball Pool     GAME     4.5  ...  July 31, 2018       4.0.0  4.0.3 and up\n",
              "1703  8 Ball Pool     GAME     4.5  ...  July 31, 2018       4.0.0  4.0.3 and up\n",
              "1755  8 Ball Pool     GAME     4.5  ...  July 31, 2018       4.0.0  4.0.3 and up\n",
              "1844  8 Ball Pool     GAME     4.5  ...  July 31, 2018       4.0.0  4.0.3 and up\n",
              "1871  8 Ball Pool     GAME     4.5  ...  July 31, 2018       4.0.0  4.0.3 and up\n",
              "1970  8 Ball Pool     GAME     4.5  ...  July 31, 2018       4.0.0  4.0.3 and up\n",
              "3953  8 Ball Pool   SPORTS     4.5  ...  July 31, 2018       4.0.0  4.0.3 and up\n",
              "\n",
              "[7 rows x 13 columns]"
            ]
          },
          "metadata": {},
          "execution_count": 10
        }
      ]
    },
    {
      "cell_type": "markdown",
      "source": [
        "### From the above observation we can see there might be duplicate rows present for same app. For different category of same app there are different number of reviews. \n",
        "\n",
        "### Keeping the Highest number of review and discarding other rows."
      ],
      "metadata": {
        "id": "o4VTOZTHI4jv"
      }
    },
    {
      "cell_type": "code",
      "source": [
        "df_play_store = df_play_store.sort_values('Reviews', ascending=False).drop_duplicates(['App', 'Category'])"
      ],
      "metadata": {
        "id": "YSWvMHKGrfJo"
      },
      "execution_count": null,
      "outputs": []
    },
    {
      "cell_type": "code",
      "metadata": {
        "colab": {
          "base_uri": "https://localhost:8080/",
          "height": 112
        },
        "id": "DgR1F0PQ2tJ-",
        "outputId": "50279d87-9d60-4824-a635-8d335ea84e7e"
      },
      "source": [
        "df_play_store[df_play_store['App']=='8 Ball Pool']"
      ],
      "execution_count": null,
      "outputs": [
        {
          "output_type": "execute_result",
          "data": {
            "text/html": [
              "<div>\n",
              "<style scoped>\n",
              "    .dataframe tbody tr th:only-of-type {\n",
              "        vertical-align: middle;\n",
              "    }\n",
              "\n",
              "    .dataframe tbody tr th {\n",
              "        vertical-align: top;\n",
              "    }\n",
              "\n",
              "    .dataframe thead th {\n",
              "        text-align: right;\n",
              "    }\n",
              "</style>\n",
              "<table border=\"1\" class=\"dataframe\">\n",
              "  <thead>\n",
              "    <tr style=\"text-align: right;\">\n",
              "      <th></th>\n",
              "      <th>App</th>\n",
              "      <th>Category</th>\n",
              "      <th>Rating</th>\n",
              "      <th>Reviews</th>\n",
              "      <th>Size</th>\n",
              "      <th>Installs</th>\n",
              "      <th>Type</th>\n",
              "      <th>Price</th>\n",
              "      <th>Content Rating</th>\n",
              "      <th>Genres</th>\n",
              "      <th>Last Updated</th>\n",
              "      <th>Current Ver</th>\n",
              "      <th>Android Ver</th>\n",
              "    </tr>\n",
              "  </thead>\n",
              "  <tbody>\n",
              "    <tr>\n",
              "      <th>1871</th>\n",
              "      <td>8 Ball Pool</td>\n",
              "      <td>GAME</td>\n",
              "      <td>4.5</td>\n",
              "      <td>14201891</td>\n",
              "      <td>52M</td>\n",
              "      <td>100,000,000+</td>\n",
              "      <td>Free</td>\n",
              "      <td>0</td>\n",
              "      <td>Everyone</td>\n",
              "      <td>Sports</td>\n",
              "      <td>July 31, 2018</td>\n",
              "      <td>4.0.0</td>\n",
              "      <td>4.0.3 and up</td>\n",
              "    </tr>\n",
              "    <tr>\n",
              "      <th>3953</th>\n",
              "      <td>8 Ball Pool</td>\n",
              "      <td>SPORTS</td>\n",
              "      <td>4.5</td>\n",
              "      <td>14184910</td>\n",
              "      <td>52M</td>\n",
              "      <td>100,000,000+</td>\n",
              "      <td>Free</td>\n",
              "      <td>0</td>\n",
              "      <td>Everyone</td>\n",
              "      <td>Sports</td>\n",
              "      <td>July 31, 2018</td>\n",
              "      <td>4.0.0</td>\n",
              "      <td>4.0.3 and up</td>\n",
              "    </tr>\n",
              "  </tbody>\n",
              "</table>\n",
              "</div>"
            ],
            "text/plain": [
              "              App Category  Rating  ...   Last Updated Current Ver   Android Ver\n",
              "1871  8 Ball Pool     GAME     4.5  ...  July 31, 2018       4.0.0  4.0.3 and up\n",
              "3953  8 Ball Pool   SPORTS     4.5  ...  July 31, 2018       4.0.0  4.0.3 and up\n",
              "\n",
              "[2 rows x 13 columns]"
            ]
          },
          "metadata": {},
          "execution_count": 12
        }
      ]
    },
    {
      "cell_type": "code",
      "metadata": {
        "colab": {
          "base_uri": "https://localhost:8080/"
        },
        "id": "fiqNc0lTWtqW",
        "outputId": "1744237d-92fa-4153-fd7e-a8aa57332075"
      },
      "source": [
        "# Check for duplicate rows\n",
        "df_play_store[df_play_store.duplicated()].count()"
      ],
      "execution_count": null,
      "outputs": [
        {
          "output_type": "execute_result",
          "data": {
            "text/plain": [
              "App               0\n",
              "Category          0\n",
              "Rating            0\n",
              "Reviews           0\n",
              "Size              0\n",
              "Installs          0\n",
              "Type              0\n",
              "Price             0\n",
              "Content Rating    0\n",
              "Genres            0\n",
              "Last Updated      0\n",
              "Current Ver       0\n",
              "Android Ver       0\n",
              "dtype: int64"
            ]
          },
          "metadata": {},
          "execution_count": 13
        }
      ]
    },
    {
      "cell_type": "code",
      "source": [
        "# The total number of apps\n",
        "print('Total number of apps in the file = ', df_play_store['App'].count())"
      ],
      "metadata": {
        "colab": {
          "base_uri": "https://localhost:8080/"
        },
        "id": "FzGy355tLx6q",
        "outputId": "2a89a988-5861-4e75-f968-e56d01ec1f78"
      },
      "execution_count": null,
      "outputs": [
        {
          "output_type": "stream",
          "name": "stdout",
          "text": [
            "Total number of apps in the file =  9745\n"
          ]
        }
      ]
    },
    {
      "cell_type": "markdown",
      "source": [
        "### **Let's handle missing/null values**"
      ],
      "metadata": {
        "id": "nFXJk-2jMPOE"
      }
    },
    {
      "cell_type": "code",
      "metadata": {
        "colab": {
          "base_uri": "https://localhost:8080/"
        },
        "id": "a5aeSS3GkJEo",
        "outputId": "032c5672-99c4-4b95-fe55-6edc2d96d707"
      },
      "source": [
        "df_play_store.info()"
      ],
      "execution_count": null,
      "outputs": [
        {
          "output_type": "stream",
          "name": "stdout",
          "text": [
            "<class 'pandas.core.frame.DataFrame'>\n",
            "Int64Index: 9745 entries, 2989 to 4177\n",
            "Data columns (total 13 columns):\n",
            " #   Column          Non-Null Count  Dtype  \n",
            "---  ------          --------------  -----  \n",
            " 0   App             9745 non-null   object \n",
            " 1   Category        9745 non-null   object \n",
            " 2   Rating          8281 non-null   float64\n",
            " 3   Reviews         9745 non-null   object \n",
            " 4   Size            9745 non-null   object \n",
            " 5   Installs        9745 non-null   object \n",
            " 6   Type            9744 non-null   object \n",
            " 7   Price           9745 non-null   object \n",
            " 8   Content Rating  9744 non-null   object \n",
            " 9   Genres          9745 non-null   object \n",
            " 10  Last Updated    9745 non-null   object \n",
            " 11  Current Ver     9737 non-null   object \n",
            " 12  Android Ver     9742 non-null   object \n",
            "dtypes: float64(1), object(12)\n",
            "memory usage: 1.0+ MB\n"
          ]
        }
      ]
    },
    {
      "cell_type": "markdown",
      "source": [
        "### Rating column has most null values but cannot remove them all. \n",
        "### We will drop the rows of current ver, android ver, content rating and type which contain null values.\n",
        "### We have to handle null values of  rating.\n"
      ],
      "metadata": {
        "id": "SwUjl66RLes1"
      }
    },
    {
      "cell_type": "code",
      "source": [
        "# get null values count column wise\n",
        "df_play_store.isnull().sum()"
      ],
      "metadata": {
        "colab": {
          "base_uri": "https://localhost:8080/"
        },
        "id": "R3SoBhkt2FxS",
        "outputId": "f462831a-8f50-473a-9cf7-79c040d7d748"
      },
      "execution_count": null,
      "outputs": [
        {
          "output_type": "execute_result",
          "data": {
            "text/plain": [
              "App                  0\n",
              "Category             0\n",
              "Rating            1464\n",
              "Reviews              0\n",
              "Size                 0\n",
              "Installs             0\n",
              "Type                 1\n",
              "Price                0\n",
              "Content Rating       1\n",
              "Genres               0\n",
              "Last Updated         0\n",
              "Current Ver          8\n",
              "Android Ver          3\n",
              "dtype: int64"
            ]
          },
          "metadata": {},
          "execution_count": 16
        }
      ]
    },
    {
      "cell_type": "code",
      "source": [
        "# Drop the rows of current ver and android ver which contain null values.\n",
        "df_play_store.dropna(inplace=True,subset=['Current Ver','Android Ver'])"
      ],
      "metadata": {
        "id": "yFhvztfc1d-z"
      },
      "execution_count": null,
      "outputs": []
    },
    {
      "cell_type": "code",
      "source": [
        "#add type ,content rating"
      ],
      "metadata": {
        "id": "2LLQMVk91Iwc"
      },
      "execution_count": 37,
      "outputs": []
    },
    {
      "cell_type": "markdown",
      "source": [
        "### Detecting outliers and then handling null values of rating coulmn."
      ],
      "metadata": {
        "id": "2bOkD1Bc7VC3"
      }
    },
    {
      "cell_type": "code",
      "source": [
        "sns.boxplot(x='Rating',data=df_play_store)\n",
        "plt.show()"
      ],
      "metadata": {
        "colab": {
          "base_uri": "https://localhost:8080/",
          "height": 279
        },
        "id": "qtZZyUBV4jfS",
        "outputId": "feacd4b8-ddaa-4b18-a883-54b262638222"
      },
      "execution_count": null,
      "outputs": [
        {
          "output_type": "display_data",
          "data": {
            "image/png": "[encoded data removed]",
            "text/plain": [
              "<Figure size 432x288 with 1 Axes>"
            ]
          },
          "metadata": {
            "needs_background": "light"
          }
        }
      ]
    },
    {
      "cell_type": "markdown",
      "source": [
        "### From boxplot there is no outliers in rating column.\n",
        "### Replacing the null values of rating column with median."
      ],
      "metadata": {
        "id": "MPzPDf2179Tw"
      }
    },
    {
      "cell_type": "code",
      "source": [
        "def inpute_median(series):\n",
        "  return series.fillna(series.median())"
      ],
      "metadata": {
        "id": "Ah1YGuX878Kw"
      },
      "execution_count": null,
      "outputs": []
    },
    {
      "cell_type": "code",
      "source": [
        "df_play_store.Rating = df_play_store['Rating'].transform(inpute_median)"
      ],
      "metadata": {
        "id": "nYgRuHtW8lXW"
      },
      "execution_count": null,
      "outputs": []
    },
    {
      "cell_type": "code",
      "source": [
        "# get null values count column wise\n",
        "df_play_store.isnull().sum()"
      ],
      "metadata": {
        "colab": {
          "base_uri": "https://localhost:8080/"
        },
        "id": "TXLS9fts8suP",
        "outputId": "26d81892-3755-4b1b-dbd5-ea17f1089b7e"
      },
      "execution_count": null,
      "outputs": [
        {
          "output_type": "execute_result",
          "data": {
            "text/plain": [
              "App               0\n",
              "Category          0\n",
              "Rating            0\n",
              "Reviews           0\n",
              "Size              0\n",
              "Installs          0\n",
              "Type              0\n",
              "Price             0\n",
              "Content Rating    0\n",
              "Genres            0\n",
              "Last Updated      0\n",
              "Current Ver       0\n",
              "Android Ver       0\n",
              "dtype: int64"
            ]
          },
          "metadata": {},
          "execution_count": 21
        }
      ]
    },
    {
      "cell_type": "markdown",
      "source": [
        "### **There are many numeric value columns that has Dtype object. Will change it to numeric.**"
      ],
      "metadata": {
        "id": "BRlSKx709JM-"
      }
    },
    {
      "cell_type": "code",
      "source": [
        "df_play_store.info()"
      ],
      "metadata": {
        "colab": {
          "base_uri": "https://localhost:8080/"
        },
        "id": "aRonfb-18-c7",
        "outputId": "d7bcb0de-947e-4d0e-aa38-3dc8d3ae96f2"
      },
      "execution_count": null,
      "outputs": [
        {
          "output_type": "stream",
          "name": "stdout",
          "text": [
            "<class 'pandas.core.frame.DataFrame'>\n",
            "Int64Index: 9733 entries, 2989 to 4177\n",
            "Data columns (total 13 columns):\n",
            " #   Column          Non-Null Count  Dtype  \n",
            "---  ------          --------------  -----  \n",
            " 0   App             9733 non-null   object \n",
            " 1   Category        9733 non-null   object \n",
            " 2   Rating          9733 non-null   float64\n",
            " 3   Reviews         9733 non-null   object \n",
            " 4   Size            9733 non-null   object \n",
            " 5   Installs        9733 non-null   object \n",
            " 6   Type            9733 non-null   object \n",
            " 7   Price           9733 non-null   object \n",
            " 8   Content Rating  9733 non-null   object \n",
            " 9   Genres          9733 non-null   object \n",
            " 10  Last Updated    9733 non-null   object \n",
            " 11  Current Ver     9733 non-null   object \n",
            " 12  Android Ver     9733 non-null   object \n",
            "dtypes: float64(1), object(12)\n",
            "memory usage: 1.0+ MB\n"
          ]
        }
      ]
    },
    {
      "cell_type": "code",
      "metadata": {
        "colab": {
          "base_uri": "https://localhost:8080/"
        },
        "id": "n6F2WSxF9Plz",
        "outputId": "8199460d-6671-4c12-c040-9465960a6b06"
      },
      "source": [
        "# For Install column.\n",
        "df_play_store['Installs'].value_counts()"
      ],
      "execution_count": null,
      "outputs": [
        {
          "output_type": "execute_result",
          "data": {
            "text/plain": [
              "1,000,000+        1429\n",
              "100,000+          1114\n",
              "10,000+           1029\n",
              "10,000,000+        959\n",
              "1,000+             887\n",
              "100+               709\n",
              "5,000,000+         620\n",
              "500,000+           509\n",
              "50,000+            468\n",
              "5,000+             467\n",
              "10+                384\n",
              "500+               328\n",
              "50,000,000+        211\n",
              "50+                204\n",
              "100,000,000+       204\n",
              "5+                  82\n",
              "1+                  67\n",
              "500,000,000+        27\n",
              "1,000,000,000+      21\n",
              "0+                  14\n",
              "Name: Installs, dtype: int64"
            ]
          },
          "metadata": {},
          "execution_count": 23
        }
      ]
    },
    {
      "cell_type": "code",
      "metadata": {
        "id": "VnInbFT49P5Z"
      },
      "source": [
        "# There are  + symbol present so replacing those with lambda function\n",
        "df_play_store['Installs'] = df_play_store['Installs'].apply(lambda x: str(x).replace('+','') if '+' in str(x) else str(x))\n",
        "\n",
        "# There are  , symbol present so replacing those with lambda function\n",
        "df_play_store['Installs'] = df_play_store['Installs'].apply(lambda x: str(x).replace(',','') if ',' in str(x) else str(x))\n",
        "\n",
        "# converting string to int type value\n",
        "df_play_store['Installs'] = df_play_store['Installs'].apply(lambda x: int(x))"
      ],
      "execution_count": null,
      "outputs": []
    },
    {
      "cell_type": "code",
      "metadata": {
        "id": "FvUPyo6Z9lk8",
        "colab": {
          "base_uri": "https://localhost:8080/"
        },
        "outputId": "b06360b2-5b0f-45cc-edc3-b29ba7549d17"
      },
      "source": [
        "#For Size column. \n",
        "df_play_store.Size.value_counts()"
      ],
      "execution_count": 38,
      "outputs": [
        {
          "output_type": "execute_result",
          "data": {
            "text/plain": [
              "Varies with device    1695\n",
              "11M                    198\n",
              "12M                    196\n",
              "14M                    194\n",
              "13M                    191\n",
              "                      ... \n",
              "837k                     1\n",
              "554k                     1\n",
              "89k                      1\n",
              "442k                     1\n",
              "82k                      1\n",
              "Name: Size, Length: 462, dtype: int64"
            ]
          },
          "metadata": {},
          "execution_count": 38
        }
      ]
    },
    {
      "cell_type": "markdown",
      "source": [
        "### In **Size column**  we can see that the size is not defined in single unit Both KB and MB are there. So we have to convert those to same unit (KB). \n",
        "\n",
        "### Also There are columns with **Varies with device** string. Will be giving zero for app size that varies with device. As size can't be zero so treated as variable size."
      ],
      "metadata": {
        "id": "9Z9H07HB_Agn"
      }
    },
    {
      "cell_type": "code",
      "source": [
        "df_play_store['Size'] = df_play_store['Size'].apply(lambda x: str(x).replace('Varies with device', '0' ) if 'Varies with device' in str(x) else x)\n",
        "df_play_store['Size'] = df_play_store['Size'].apply(lambda x: float(str(x).replace('M', '')) * 1024 if 'M' in str(x) else x)\n",
        "df_play_store['Size'] = df_play_store['Size'].apply(lambda x: str(x).replace('.', '') if 'M' in str(x) else x)\n",
        "df_play_store['Size'] = df_play_store['Size'].apply(lambda x: str(x).replace('k', '') if 'k' in str(x) else x)\n",
        "\n",
        "# converting all str values to float\n",
        "df_play_store['Size'] = df_play_store['Size'].apply(lambda x: float(x))"
      ],
      "metadata": {
        "id": "3ZGgIAGa_1Yf"
      },
      "execution_count": null,
      "outputs": []
    },
    {
      "cell_type": "code",
      "metadata": {
        "id": "Y_Jzl62X99TH"
      },
      "source": [
        "#for Review column\n",
        "def string_to_integer(string):\n",
        "  return int(string)"
      ],
      "execution_count": null,
      "outputs": []
    },
    {
      "cell_type": "code",
      "metadata": {
        "id": "BaLA90KL-OEO"
      },
      "source": [
        "df_play_store['Reviews'] = df_play_store['Reviews'].apply(string_to_integer)"
      ],
      "execution_count": null,
      "outputs": []
    },
    {
      "cell_type": "code",
      "metadata": {
        "id": "SVXZwuAFXPxy"
      },
      "source": [
        "#for price (All prices are in $)\n",
        "def string_to_float(string):\n",
        "  if string=='0':\n",
        "    return 0\n",
        "  else:\n",
        "    return float(string[1:])"
      ],
      "execution_count": null,
      "outputs": []
    },
    {
      "cell_type": "code",
      "metadata": {
        "id": "BoN18Q2LXgx2"
      },
      "source": [
        "df_play_store['Price']=df_play_store['Price'].apply(string_to_float)"
      ],
      "execution_count": null,
      "outputs": []
    },
    {
      "cell_type": "code",
      "metadata": {
        "colab": {
          "base_uri": "https://localhost:8080/"
        },
        "id": "4Qp0gj6lXs1-",
        "outputId": "1f68c109-baf5-4365-9db6-98547772cd64"
      },
      "source": [
        "df_play_store['Price'].describe()"
      ],
      "execution_count": null,
      "outputs": [
        {
          "output_type": "execute_result",
          "data": {
            "text/plain": [
              "count    9733.000000\n",
              "mean        1.091610\n",
              "std        16.788333\n",
              "min         0.000000\n",
              "25%         0.000000\n",
              "50%         0.000000\n",
              "75%         0.000000\n",
              "max       400.000000\n",
              "Name: Price, dtype: float64"
            ]
          },
          "metadata": {},
          "execution_count": 32
        }
      ]
    },
    {
      "cell_type": "markdown",
      "source": [
        "### From Last Updated column taking year to make column of new year"
      ],
      "metadata": {
        "id": "RTyaMs8xD6uj"
      }
    },
    {
      "cell_type": "code",
      "metadata": {
        "id": "oUCSqjuHim6D"
      },
      "source": [
        "def string_to_year(string):\n",
        "  return int(string[-4:])"
      ],
      "execution_count": null,
      "outputs": []
    },
    {
      "cell_type": "code",
      "source": [
        "df_play_store['new_year']=df_play_store['Last Updated'].apply(string_to_year)\n",
        "df_play_store['new_year'] = pd.to_datetime(df_play_store['new_year'], format='%Y')"
      ],
      "metadata": {
        "id": "vOjpiehXCas-"
      },
      "execution_count": null,
      "outputs": []
    },
    {
      "cell_type": "code",
      "source": [
        "df_play_store.info()"
      ],
      "metadata": {
        "colab": {
          "base_uri": "https://localhost:8080/"
        },
        "id": "NOrD1tjTCdft",
        "outputId": "7742c418-f0da-4b0b-b1cb-8a1cd41f07b2"
      },
      "execution_count": null,
      "outputs": [
        {
          "output_type": "stream",
          "name": "stdout",
          "text": [
            "<class 'pandas.core.frame.DataFrame'>\n",
            "Int64Index: 9733 entries, 2989 to 4177\n",
            "Data columns (total 14 columns):\n",
            " #   Column          Non-Null Count  Dtype         \n",
            "---  ------          --------------  -----         \n",
            " 0   App             9733 non-null   object        \n",
            " 1   Category        9733 non-null   object        \n",
            " 2   Rating          9733 non-null   float64       \n",
            " 3   Reviews         9733 non-null   int64         \n",
            " 4   Size            9733 non-null   float64       \n",
            " 5   Installs        9733 non-null   int64         \n",
            " 6   Type            9733 non-null   object        \n",
            " 7   Price           9733 non-null   float64       \n",
            " 8   Content Rating  9733 non-null   object        \n",
            " 9   Genres          9733 non-null   object        \n",
            " 10  Last Updated    9733 non-null   object        \n",
            " 11  Current Ver     9733 non-null   object        \n",
            " 12  Android Ver     9733 non-null   object        \n",
            " 13  new_year        9733 non-null   datetime64[ns]\n",
            "dtypes: datetime64[ns](1), float64(3), int64(2), object(8)\n",
            "memory usage: 1.1+ MB\n"
          ]
        }
      ]
    },
    {
      "cell_type": "markdown",
      "source": [
        "## **For second dataframe.**"
      ],
      "metadata": {
        "id": "ZYluQZ8_DZ1z"
      }
    },
    {
      "cell_type": "code",
      "source": [
        "df_user_review.head()"
      ],
      "metadata": {
        "id": "tbh3HlksCpoJ",
        "colab": {
          "base_uri": "https://localhost:8080/",
          "height": 206
        },
        "outputId": "13932ee5-594d-43a0-d860-bb2fc5894b2c"
      },
      "execution_count": 4,
      "outputs": [
        {
          "output_type": "execute_result",
          "data": {
            "text/html": [
              "<div>\n",
              "<style scoped>\n",
              "    .dataframe tbody tr th:only-of-type {\n",
              "        vertical-align: middle;\n",
              "    }\n",
              "\n",
              "    .dataframe tbody tr th {\n",
              "        vertical-align: top;\n",
              "    }\n",
              "\n",
              "    .dataframe thead th {\n",
              "        text-align: right;\n",
              "    }\n",
              "</style>\n",
              "<table border=\"1\" class=\"dataframe\">\n",
              "  <thead>\n",
              "    <tr style=\"text-align: right;\">\n",
              "      <th></th>\n",
              "      <th>App</th>\n",
              "      <th>Translated_Review</th>\n",
              "      <th>Sentiment</th>\n",
              "      <th>Sentiment_Polarity</th>\n",
              "      <th>Sentiment_Subjectivity</th>\n",
              "    </tr>\n",
              "  </thead>\n",
              "  <tbody>\n",
              "    <tr>\n",
              "      <th>0</th>\n",
              "      <td>10 Best Foods for You</td>\n",
              "      <td>I like eat delicious food. That's I'm cooking ...</td>\n",
              "      <td>Positive</td>\n",
              "      <td>1.00</td>\n",
              "      <td>0.533333</td>\n",
              "    </tr>\n",
              "    <tr>\n",
              "      <th>1</th>\n",
              "      <td>10 Best Foods for You</td>\n",
              "      <td>This help eating healthy exercise regular basis</td>\n",
              "      <td>Positive</td>\n",
              "      <td>0.25</td>\n",
              "      <td>0.288462</td>\n",
              "    </tr>\n",
              "    <tr>\n",
              "      <th>2</th>\n",
              "      <td>10 Best Foods for You</td>\n",
              "      <td>NaN</td>\n",
              "      <td>NaN</td>\n",
              "      <td>NaN</td>\n",
              "      <td>NaN</td>\n",
              "    </tr>\n",
              "    <tr>\n",
              "      <th>3</th>\n",
              "      <td>10 Best Foods for You</td>\n",
              "      <td>Works great especially going grocery store</td>\n",
              "      <td>Positive</td>\n",
              "      <td>0.40</td>\n",
              "      <td>0.875000</td>\n",
              "    </tr>\n",
              "    <tr>\n",
              "      <th>4</th>\n",
              "      <td>10 Best Foods for You</td>\n",
              "      <td>Best idea us</td>\n",
              "      <td>Positive</td>\n",
              "      <td>1.00</td>\n",
              "      <td>0.300000</td>\n",
              "    </tr>\n",
              "  </tbody>\n",
              "</table>\n",
              "</div>"
            ],
            "text/plain": [
              "                     App  ... Sentiment_Subjectivity\n",
              "0  10 Best Foods for You  ...               0.533333\n",
              "1  10 Best Foods for You  ...               0.288462\n",
              "2  10 Best Foods for You  ...                    NaN\n",
              "3  10 Best Foods for You  ...               0.875000\n",
              "4  10 Best Foods for You  ...               0.300000\n",
              "\n",
              "[5 rows x 5 columns]"
            ]
          },
          "metadata": {},
          "execution_count": 4
        }
      ]
    },
    {
      "cell_type": "markdown",
      "source": [
        "\n",
        "*   ### User review dataset contain column named as translated reviews  with their translated reviews, sentiment, sentiment polarity and sentiment subjectivity.\n",
        "*   ### Sentiments are like boolean values of user translated reviews having values like 'positive','negetive' and 'neutral'.\n",
        "*   ### Sentiment Polarity is the calibrated value of translated reviews that varies from -1 to 1.\n",
        "###1.   For positive it would be in range 0 to 1.\n",
        "###2.   For negetive it would be -1 to 0.\n",
        "###3.   For neutral it will be 0.\n",
        "* ### Sentiment subjectivity is basically pitch of review.The range of pitch is from 0 to 1.If review words are too good or bad it would be rate 1.\n"
      ],
      "metadata": {
        "id": "ngt1eMFyD8PP"
      }
    },
    {
      "cell_type": "code",
      "source": [
        "df_user_review.info()"
      ],
      "metadata": {
        "id": "X1XzxhjQDsvs",
        "colab": {
          "base_uri": "https://localhost:8080/"
        },
        "outputId": "82169740-c4f6-40f6-9534-e095f777f3ce"
      },
      "execution_count": 5,
      "outputs": [
        {
          "output_type": "stream",
          "name": "stdout",
          "text": [
            "<class 'pandas.core.frame.DataFrame'>\n",
            "RangeIndex: 64295 entries, 0 to 64294\n",
            "Data columns (total 5 columns):\n",
            " #   Column                  Non-Null Count  Dtype  \n",
            "---  ------                  --------------  -----  \n",
            " 0   App                     64295 non-null  object \n",
            " 1   Translated_Review       37427 non-null  object \n",
            " 2   Sentiment               37432 non-null  object \n",
            " 3   Sentiment_Polarity      37432 non-null  float64\n",
            " 4   Sentiment_Subjectivity  37432 non-null  float64\n",
            "dtypes: float64(2), object(3)\n",
            "memory usage: 2.5+ MB\n"
          ]
        }
      ]
    },
    {
      "cell_type": "markdown",
      "source": [
        "### From above information half of the values are null. \n",
        "###It is better to just omit them rather than replacing it .\n",
        "###Also if any of the columns are null it wouldn't prove useful as all this columns are mostly related to each other."
      ],
      "metadata": {
        "id": "I6K0kF8GDSAQ"
      }
    },
    {
      "cell_type": "code",
      "source": [
        "#Drop missing values \n",
        "df_user_review.dropna(inplace=True)"
      ],
      "metadata": {
        "id": "wYMw3sjnJwyf"
      },
      "execution_count": 8,
      "outputs": []
    },
    {
      "cell_type": "code",
      "source": [
        "#checking user df\n",
        "df_user_review.info()"
      ],
      "metadata": {
        "colab": {
          "base_uri": "https://localhost:8080/"
        },
        "id": "B5e3V9LAFJ5X",
        "outputId": "995ef072-710c-49c4-c962-16cee6bb4cbc"
      },
      "execution_count": 9,
      "outputs": [
        {
          "output_type": "stream",
          "name": "stdout",
          "text": [
            "<class 'pandas.core.frame.DataFrame'>\n",
            "Int64Index: 37427 entries, 0 to 64230\n",
            "Data columns (total 5 columns):\n",
            " #   Column                  Non-Null Count  Dtype  \n",
            "---  ------                  --------------  -----  \n",
            " 0   App                     37427 non-null  object \n",
            " 1   Translated_Review       37427 non-null  object \n",
            " 2   Sentiment               37427 non-null  object \n",
            " 3   Sentiment_Polarity      37427 non-null  float64\n",
            " 4   Sentiment_Subjectivity  37427 non-null  float64\n",
            "dtypes: float64(2), object(3)\n",
            "memory usage: 1.7+ MB\n"
          ]
        }
      ]
    },
    {
      "cell_type": "code",
      "source": [
        "df_user_review[df_user_review['Sentiment_Subjectivity']=='Positive']"
      ],
      "metadata": {
        "colab": {
          "base_uri": "https://localhost:8080/",
          "height": 50
        },
        "id": "4-HIN8EOxhWs",
        "outputId": "2f184db0-05d1-41cd-c458-8e528ea31dec"
      },
      "execution_count": 41,
      "outputs": [
        {
          "output_type": "execute_result",
          "data": {
            "text/html": [
              "<div>\n",
              "<style scoped>\n",
              "    .dataframe tbody tr th:only-of-type {\n",
              "        vertical-align: middle;\n",
              "    }\n",
              "\n",
              "    .dataframe tbody tr th {\n",
              "        vertical-align: top;\n",
              "    }\n",
              "\n",
              "    .dataframe thead th {\n",
              "        text-align: right;\n",
              "    }\n",
              "</style>\n",
              "<table border=\"1\" class=\"dataframe\">\n",
              "  <thead>\n",
              "    <tr style=\"text-align: right;\">\n",
              "      <th></th>\n",
              "      <th>App</th>\n",
              "      <th>Translated_Review</th>\n",
              "      <th>Sentiment</th>\n",
              "      <th>Sentiment_Polarity</th>\n",
              "      <th>Sentiment_Subjectivity</th>\n",
              "    </tr>\n",
              "  </thead>\n",
              "  <tbody>\n",
              "  </tbody>\n",
              "</table>\n",
              "</div>"
            ],
            "text/plain": [
              "Empty DataFrame\n",
              "Columns: [App, Translated_Review, Sentiment, Sentiment_Polarity, Sentiment_Subjectivity]\n",
              "Index: []"
            ]
          },
          "metadata": {},
          "execution_count": 41
        }
      ]
    },
    {
      "cell_type": "code",
      "source": [
        "df_user_review[df_user_review['Sentiment']=='Positive']"
      ],
      "metadata": {
        "colab": {
          "base_uri": "https://localhost:8080/",
          "height": 423
        },
        "id": "pAAufB0gyExK",
        "outputId": "a8034c72-63b5-421d-c8dc-a438816ac46e"
      },
      "execution_count": 42,
      "outputs": [
        {
          "output_type": "execute_result",
          "data": {
            "text/html": [
              "<div>\n",
              "<style scoped>\n",
              "    .dataframe tbody tr th:only-of-type {\n",
              "        vertical-align: middle;\n",
              "    }\n",
              "\n",
              "    .dataframe tbody tr th {\n",
              "        vertical-align: top;\n",
              "    }\n",
              "\n",
              "    .dataframe thead th {\n",
              "        text-align: right;\n",
              "    }\n",
              "</style>\n",
              "<table border=\"1\" class=\"dataframe\">\n",
              "  <thead>\n",
              "    <tr style=\"text-align: right;\">\n",
              "      <th></th>\n",
              "      <th>App</th>\n",
              "      <th>Translated_Review</th>\n",
              "      <th>Sentiment</th>\n",
              "      <th>Sentiment_Polarity</th>\n",
              "      <th>Sentiment_Subjectivity</th>\n",
              "    </tr>\n",
              "  </thead>\n",
              "  <tbody>\n",
              "    <tr>\n",
              "      <th>0</th>\n",
              "      <td>10 Best Foods for You</td>\n",
              "      <td>I like eat delicious food. That's I'm cooking ...</td>\n",
              "      <td>Positive</td>\n",
              "      <td>1.000000</td>\n",
              "      <td>0.533333</td>\n",
              "    </tr>\n",
              "    <tr>\n",
              "      <th>1</th>\n",
              "      <td>10 Best Foods for You</td>\n",
              "      <td>This help eating healthy exercise regular basis</td>\n",
              "      <td>Positive</td>\n",
              "      <td>0.250000</td>\n",
              "      <td>0.288462</td>\n",
              "    </tr>\n",
              "    <tr>\n",
              "      <th>3</th>\n",
              "      <td>10 Best Foods for You</td>\n",
              "      <td>Works great especially going grocery store</td>\n",
              "      <td>Positive</td>\n",
              "      <td>0.400000</td>\n",
              "      <td>0.875000</td>\n",
              "    </tr>\n",
              "    <tr>\n",
              "      <th>4</th>\n",
              "      <td>10 Best Foods for You</td>\n",
              "      <td>Best idea us</td>\n",
              "      <td>Positive</td>\n",
              "      <td>1.000000</td>\n",
              "      <td>0.300000</td>\n",
              "    </tr>\n",
              "    <tr>\n",
              "      <th>5</th>\n",
              "      <td>10 Best Foods for You</td>\n",
              "      <td>Best way</td>\n",
              "      <td>Positive</td>\n",
              "      <td>1.000000</td>\n",
              "      <td>0.300000</td>\n",
              "    </tr>\n",
              "    <tr>\n",
              "      <th>...</th>\n",
              "      <td>...</td>\n",
              "      <td>...</td>\n",
              "      <td>...</td>\n",
              "      <td>...</td>\n",
              "      <td>...</td>\n",
              "    </tr>\n",
              "    <tr>\n",
              "      <th>64217</th>\n",
              "      <td>Housing-Real Estate &amp; Property</td>\n",
              "      <td>I able set range 1cr, scroll space 0-1cr range...</td>\n",
              "      <td>Positive</td>\n",
              "      <td>0.233333</td>\n",
              "      <td>0.550000</td>\n",
              "    </tr>\n",
              "    <tr>\n",
              "      <th>64221</th>\n",
              "      <td>Housing-Real Estate &amp; Property</td>\n",
              "      <td>Everything old stuff neither clear sold proper...</td>\n",
              "      <td>Positive</td>\n",
              "      <td>0.021591</td>\n",
              "      <td>0.259470</td>\n",
              "    </tr>\n",
              "    <tr>\n",
              "      <th>64222</th>\n",
              "      <td>Housing-Real Estate &amp; Property</td>\n",
              "      <td>Most ads older many agents ..not much owner po...</td>\n",
              "      <td>Positive</td>\n",
              "      <td>0.173333</td>\n",
              "      <td>0.486667</td>\n",
              "    </tr>\n",
              "    <tr>\n",
              "      <th>64223</th>\n",
              "      <td>Housing-Real Estate &amp; Property</td>\n",
              "      <td>If photos posted portal load, fit purpose. I'm...</td>\n",
              "      <td>Positive</td>\n",
              "      <td>0.225000</td>\n",
              "      <td>0.447222</td>\n",
              "    </tr>\n",
              "    <tr>\n",
              "      <th>64227</th>\n",
              "      <td>Housing-Real Estate &amp; Property</td>\n",
              "      <td>I property business got link SMS happy perform...</td>\n",
              "      <td>Positive</td>\n",
              "      <td>0.800000</td>\n",
              "      <td>1.000000</td>\n",
              "    </tr>\n",
              "  </tbody>\n",
              "</table>\n",
              "<p>23998 rows × 5 columns</p>\n",
              "</div>"
            ],
            "text/plain": [
              "                                  App  ... Sentiment_Subjectivity\n",
              "0               10 Best Foods for You  ...               0.533333\n",
              "1               10 Best Foods for You  ...               0.288462\n",
              "3               10 Best Foods for You  ...               0.875000\n",
              "4               10 Best Foods for You  ...               0.300000\n",
              "5               10 Best Foods for You  ...               0.300000\n",
              "...                               ...  ...                    ...\n",
              "64217  Housing-Real Estate & Property  ...               0.550000\n",
              "64221  Housing-Real Estate & Property  ...               0.259470\n",
              "64222  Housing-Real Estate & Property  ...               0.486667\n",
              "64223  Housing-Real Estate & Property  ...               0.447222\n",
              "64227  Housing-Real Estate & Property  ...               1.000000\n",
              "\n",
              "[23998 rows x 5 columns]"
            ]
          },
          "metadata": {},
          "execution_count": 42
        }
      ]
    },
    {
      "cell_type": "code",
      "source": [
        "df_user_review.describe()"
      ],
      "metadata": {
        "colab": {
          "base_uri": "https://localhost:8080/",
          "height": 300
        },
        "id": "sdYhjqArGYEl",
        "outputId": "01c0c518-40b5-4a2c-ff4b-fb5c835e67d0"
      },
      "execution_count": 10,
      "outputs": [
        {
          "output_type": "execute_result",
          "data": {
            "text/html": [
              "<div>\n",
              "<style scoped>\n",
              "    .dataframe tbody tr th:only-of-type {\n",
              "        vertical-align: middle;\n",
              "    }\n",
              "\n",
              "    .dataframe tbody tr th {\n",
              "        vertical-align: top;\n",
              "    }\n",
              "\n",
              "    .dataframe thead th {\n",
              "        text-align: right;\n",
              "    }\n",
              "</style>\n",
              "<table border=\"1\" class=\"dataframe\">\n",
              "  <thead>\n",
              "    <tr style=\"text-align: right;\">\n",
              "      <th></th>\n",
              "      <th>Sentiment_Polarity</th>\n",
              "      <th>Sentiment_Subjectivity</th>\n",
              "    </tr>\n",
              "  </thead>\n",
              "  <tbody>\n",
              "    <tr>\n",
              "      <th>count</th>\n",
              "      <td>37427.000000</td>\n",
              "      <td>37427.000000</td>\n",
              "    </tr>\n",
              "    <tr>\n",
              "      <th>mean</th>\n",
              "      <td>0.182171</td>\n",
              "      <td>0.492770</td>\n",
              "    </tr>\n",
              "    <tr>\n",
              "      <th>std</th>\n",
              "      <td>0.351318</td>\n",
              "      <td>0.259904</td>\n",
              "    </tr>\n",
              "    <tr>\n",
              "      <th>min</th>\n",
              "      <td>-1.000000</td>\n",
              "      <td>0.000000</td>\n",
              "    </tr>\n",
              "    <tr>\n",
              "      <th>25%</th>\n",
              "      <td>0.000000</td>\n",
              "      <td>0.357143</td>\n",
              "    </tr>\n",
              "    <tr>\n",
              "      <th>50%</th>\n",
              "      <td>0.150000</td>\n",
              "      <td>0.514286</td>\n",
              "    </tr>\n",
              "    <tr>\n",
              "      <th>75%</th>\n",
              "      <td>0.400000</td>\n",
              "      <td>0.650000</td>\n",
              "    </tr>\n",
              "    <tr>\n",
              "      <th>max</th>\n",
              "      <td>1.000000</td>\n",
              "      <td>1.000000</td>\n",
              "    </tr>\n",
              "  </tbody>\n",
              "</table>\n",
              "</div>"
            ],
            "text/plain": [
              "       Sentiment_Polarity  Sentiment_Subjectivity\n",
              "count        37427.000000            37427.000000\n",
              "mean             0.182171                0.492770\n",
              "std              0.351318                0.259904\n",
              "min             -1.000000                0.000000\n",
              "25%              0.000000                0.357143\n",
              "50%              0.150000                0.514286\n",
              "75%              0.400000                0.650000\n",
              "max              1.000000                1.000000"
            ]
          },
          "metadata": {},
          "execution_count": 10
        }
      ]
    },
    {
      "cell_type": "code",
      "source": [
        "df_user_review['App'].value_counts()"
      ],
      "metadata": {
        "colab": {
          "base_uri": "https://localhost:8080/"
        },
        "id": "1nCphbacF2jp",
        "outputId": "be5b26b3-14dd-4fb5-ecd4-2fb9552c03b8"
      },
      "execution_count": 11,
      "outputs": [
        {
          "output_type": "execute_result",
          "data": {
            "text/plain": [
              "Bowmasters                        312\n",
              "Angry Birds Classic               273\n",
              "Helix Jump                        273\n",
              "Calorie Counter - MyFitnessPal    254\n",
              "Candy Crush Saga                  240\n",
              "                                 ... \n",
              "DashClock Widget                    1\n",
              "Apartment Decorating Ideas          1\n",
              "Draw A Stickman                     1\n",
              "HD Camera                           1\n",
              "Draw In                             1\n",
              "Name: App, Length: 865, dtype: int64"
            ]
          },
          "metadata": {},
          "execution_count": 11
        }
      ]
    },
    {
      "cell_type": "code",
      "source": [
        "df_user_review['Sentiment'].value_counts()"
      ],
      "metadata": {
        "colab": {
          "base_uri": "https://localhost:8080/"
        },
        "id": "wHrxTohDF8a9",
        "outputId": "240e686e-b86a-445e-aad9-600d65034af6"
      },
      "execution_count": 12,
      "outputs": [
        {
          "output_type": "execute_result",
          "data": {
            "text/plain": [
              "Positive    23998\n",
              "Negative     8271\n",
              "Neutral      5158\n",
              "Name: Sentiment, dtype: int64"
            ]
          },
          "metadata": {},
          "execution_count": 12
        }
      ]
    },
    {
      "cell_type": "code",
      "source": [
        "plt.rcParams['figure.figsize'] = (10, 5)\n",
        "sns.barplot(x=df_user_review['Sentiment'].value_counts().index,y=df_user_review['Sentiment'].value_counts())\n",
        "plt.show()"
      ],
      "metadata": {
        "colab": {
          "base_uri": "https://localhost:8080/",
          "height": 322
        },
        "id": "duPzfK6BGQxg",
        "outputId": "26606141-bb09-49c6-b9be-3fa276d602fc"
      },
      "execution_count": 13,
      "outputs": [
        {
          "output_type": "display_data",
          "data": {
            "image/png": "[encoded data removed]",
            "text/plain": [
              "<Figure size 720x360 with 1 Axes>"
            ]
          },
          "metadata": {
            "needs_background": "light"
          }
        }
      ]
    },
    {
      "cell_type": "code",
      "source": [
        "plt.figure(figsize=(10,6))\n",
        "sns.boxplot(x = 'Sentiment',data=df_user_review)\n",
        "plt.show()"
      ],
      "metadata": {
        "colab": {
          "base_uri": "https://localhost:8080/",
          "height": 362
        },
        "id": "L9yoop59uun_",
        "outputId": "d55fee6d-0128-4646-c562-637194c4bd34"
      },
      "execution_count": 34,
      "outputs": [
        {
          "output_type": "error",
          "ename": "TypeError",
          "evalue": "ignored",
          "traceback": [
            "\u001b[0;31m---------------------------------------------------------------------------\u001b[0m",
            "\u001b[0;31mTypeError\u001b[0m                                 Traceback (most recent call last)",
            "\u001b[0;32m<ipython-input-34-a89d7c9d3eb9>\u001b[0m in \u001b[0;36m<module>\u001b[0;34m()\u001b[0m\n\u001b[1;32m      1\u001b[0m \u001b[0mplt\u001b[0m\u001b[0;34m.\u001b[0m\u001b[0mfigure\u001b[0m\u001b[0;34m(\u001b[0m\u001b[0mfigsize\u001b[0m\u001b[0;34m=\u001b[0m\u001b[0;34m(\u001b[0m\u001b[0;36m10\u001b[0m\u001b[0;34m,\u001b[0m\u001b[0;36m6\u001b[0m\u001b[0;34m)\u001b[0m\u001b[0;34m)\u001b[0m\u001b[0;34m\u001b[0m\u001b[0;34m\u001b[0m\u001b[0m\n\u001b[0;32m----> 2\u001b[0;31m \u001b[0msns\u001b[0m\u001b[0;34m.\u001b[0m\u001b[0mboxplot\u001b[0m\u001b[0;34m(\u001b[0m\u001b[0mx\u001b[0m \u001b[0;34m=\u001b[0m \u001b[0;34m'Sentiment'\u001b[0m\u001b[0;34m,\u001b[0m\u001b[0mdata\u001b[0m\u001b[0;34m=\u001b[0m\u001b[0mdf_user_review\u001b[0m\u001b[0;34m)\u001b[0m\u001b[0;34m\u001b[0m\u001b[0;34m\u001b[0m\u001b[0m\n\u001b[0m\u001b[1;32m      3\u001b[0m \u001b[0mplt\u001b[0m\u001b[0;34m.\u001b[0m\u001b[0mshow\u001b[0m\u001b[0;34m(\u001b[0m\u001b[0;34m)\u001b[0m\u001b[0;34m\u001b[0m\u001b[0;34m\u001b[0m\u001b[0m\n",
            "\u001b[0;32m/usr/local/lib/python3.7/dist-packages/seaborn/_decorators.py\u001b[0m in \u001b[0;36minner_f\u001b[0;34m(*args, **kwargs)\u001b[0m\n\u001b[1;32m     44\u001b[0m             )\n\u001b[1;32m     45\u001b[0m         \u001b[0mkwargs\u001b[0m\u001b[0;34m.\u001b[0m\u001b[0mupdate\u001b[0m\u001b[0;34m(\u001b[0m\u001b[0;34m{\u001b[0m\u001b[0mk\u001b[0m\u001b[0;34m:\u001b[0m \u001b[0marg\u001b[0m \u001b[0;32mfor\u001b[0m \u001b[0mk\u001b[0m\u001b[0;34m,\u001b[0m \u001b[0marg\u001b[0m \u001b[0;32min\u001b[0m \u001b[0mzip\u001b[0m\u001b[0;34m(\u001b[0m\u001b[0msig\u001b[0m\u001b[0;34m.\u001b[0m\u001b[0mparameters\u001b[0m\u001b[0;34m,\u001b[0m \u001b[0margs\u001b[0m\u001b[0;34m)\u001b[0m\u001b[0;34m}\u001b[0m\u001b[0;34m)\u001b[0m\u001b[0;34m\u001b[0m\u001b[0;34m\u001b[0m\u001b[0m\n\u001b[0;32m---> 46\u001b[0;31m         \u001b[0;32mreturn\u001b[0m \u001b[0mf\u001b[0m\u001b[0;34m(\u001b[0m\u001b[0;34m**\u001b[0m\u001b[0mkwargs\u001b[0m\u001b[0;34m)\u001b[0m\u001b[0;34m\u001b[0m\u001b[0;34m\u001b[0m\u001b[0m\n\u001b[0m\u001b[1;32m     47\u001b[0m     \u001b[0;32mreturn\u001b[0m \u001b[0minner_f\u001b[0m\u001b[0;34m\u001b[0m\u001b[0;34m\u001b[0m\u001b[0m\n\u001b[1;32m     48\u001b[0m \u001b[0;34m\u001b[0m\u001b[0m\n",
            "\u001b[0;32m/usr/local/lib/python3.7/dist-packages/seaborn/categorical.py\u001b[0m in \u001b[0;36mboxplot\u001b[0;34m(x, y, hue, data, order, hue_order, orient, color, palette, saturation, width, dodge, fliersize, linewidth, whis, ax, **kwargs)\u001b[0m\n\u001b[1;32m   2243\u001b[0m     plotter = _BoxPlotter(x, y, hue, data, order, hue_order,\n\u001b[1;32m   2244\u001b[0m                           \u001b[0morient\u001b[0m\u001b[0;34m,\u001b[0m \u001b[0mcolor\u001b[0m\u001b[0;34m,\u001b[0m \u001b[0mpalette\u001b[0m\u001b[0;34m,\u001b[0m \u001b[0msaturation\u001b[0m\u001b[0;34m,\u001b[0m\u001b[0;34m\u001b[0m\u001b[0;34m\u001b[0m\u001b[0m\n\u001b[0;32m-> 2245\u001b[0;31m                           width, dodge, fliersize, linewidth)\n\u001b[0m\u001b[1;32m   2246\u001b[0m \u001b[0;34m\u001b[0m\u001b[0m\n\u001b[1;32m   2247\u001b[0m     \u001b[0;32mif\u001b[0m \u001b[0max\u001b[0m \u001b[0;32mis\u001b[0m \u001b[0;32mNone\u001b[0m\u001b[0;34m:\u001b[0m\u001b[0;34m\u001b[0m\u001b[0;34m\u001b[0m\u001b[0m\n",
            "\u001b[0;32m/usr/local/lib/python3.7/dist-packages/seaborn/categorical.py\u001b[0m in \u001b[0;36m__init__\u001b[0;34m(self, x, y, hue, data, order, hue_order, orient, color, palette, saturation, width, dodge, fliersize, linewidth)\u001b[0m\n\u001b[1;32m    404\u001b[0m                  width, dodge, fliersize, linewidth):\n\u001b[1;32m    405\u001b[0m \u001b[0;34m\u001b[0m\u001b[0m\n\u001b[0;32m--> 406\u001b[0;31m         \u001b[0mself\u001b[0m\u001b[0;34m.\u001b[0m\u001b[0mestablish_variables\u001b[0m\u001b[0;34m(\u001b[0m\u001b[0mx\u001b[0m\u001b[0;34m,\u001b[0m \u001b[0my\u001b[0m\u001b[0;34m,\u001b[0m \u001b[0mhue\u001b[0m\u001b[0;34m,\u001b[0m \u001b[0mdata\u001b[0m\u001b[0;34m,\u001b[0m \u001b[0morient\u001b[0m\u001b[0;34m,\u001b[0m \u001b[0morder\u001b[0m\u001b[0;34m,\u001b[0m \u001b[0mhue_order\u001b[0m\u001b[0;34m)\u001b[0m\u001b[0;34m\u001b[0m\u001b[0;34m\u001b[0m\u001b[0m\n\u001b[0m\u001b[1;32m    407\u001b[0m         \u001b[0mself\u001b[0m\u001b[0;34m.\u001b[0m\u001b[0mestablish_colors\u001b[0m\u001b[0;34m(\u001b[0m\u001b[0mcolor\u001b[0m\u001b[0;34m,\u001b[0m \u001b[0mpalette\u001b[0m\u001b[0;34m,\u001b[0m \u001b[0msaturation\u001b[0m\u001b[0;34m)\u001b[0m\u001b[0;34m\u001b[0m\u001b[0;34m\u001b[0m\u001b[0m\n\u001b[1;32m    408\u001b[0m \u001b[0;34m\u001b[0m\u001b[0m\n",
            "\u001b[0;32m/usr/local/lib/python3.7/dist-packages/seaborn/categorical.py\u001b[0m in \u001b[0;36mestablish_variables\u001b[0;34m(self, x, y, hue, data, orient, order, hue_order, units)\u001b[0m\n\u001b[1;32m    155\u001b[0m             \u001b[0;31m# Figure out the plotting orientation\u001b[0m\u001b[0;34m\u001b[0m\u001b[0;34m\u001b[0m\u001b[0;34m\u001b[0m\u001b[0m\n\u001b[1;32m    156\u001b[0m             orient = infer_orient(\n\u001b[0;32m--> 157\u001b[0;31m                 \u001b[0mx\u001b[0m\u001b[0;34m,\u001b[0m \u001b[0my\u001b[0m\u001b[0;34m,\u001b[0m \u001b[0morient\u001b[0m\u001b[0;34m,\u001b[0m \u001b[0mrequire_numeric\u001b[0m\u001b[0;34m=\u001b[0m\u001b[0mself\u001b[0m\u001b[0;34m.\u001b[0m\u001b[0mrequire_numeric\u001b[0m\u001b[0;34m\u001b[0m\u001b[0;34m\u001b[0m\u001b[0m\n\u001b[0m\u001b[1;32m    158\u001b[0m             )\n\u001b[1;32m    159\u001b[0m \u001b[0;34m\u001b[0m\u001b[0m\n",
            "\u001b[0;32m/usr/local/lib/python3.7/dist-packages/seaborn/_core.py\u001b[0m in \u001b[0;36minfer_orient\u001b[0;34m(x, y, orient, require_numeric)\u001b[0m\n\u001b[1;32m   1326\u001b[0m             \u001b[0mwarnings\u001b[0m\u001b[0;34m.\u001b[0m\u001b[0mwarn\u001b[0m\u001b[0;34m(\u001b[0m\u001b[0msingle_var_warning\u001b[0m\u001b[0;34m.\u001b[0m\u001b[0mformat\u001b[0m\u001b[0;34m(\u001b[0m\u001b[0;34m\"Vertical\"\u001b[0m\u001b[0;34m,\u001b[0m \u001b[0;34m\"x\"\u001b[0m\u001b[0;34m)\u001b[0m\u001b[0;34m)\u001b[0m\u001b[0;34m\u001b[0m\u001b[0;34m\u001b[0m\u001b[0m\n\u001b[1;32m   1327\u001b[0m         \u001b[0;32mif\u001b[0m \u001b[0mrequire_numeric\u001b[0m \u001b[0;32mand\u001b[0m \u001b[0mx_type\u001b[0m \u001b[0;34m!=\u001b[0m \u001b[0;34m\"numeric\"\u001b[0m\u001b[0;34m:\u001b[0m\u001b[0;34m\u001b[0m\u001b[0;34m\u001b[0m\u001b[0m\n\u001b[0;32m-> 1328\u001b[0;31m             \u001b[0;32mraise\u001b[0m \u001b[0mTypeError\u001b[0m\u001b[0;34m(\u001b[0m\u001b[0mnonnumeric_dv_error\u001b[0m\u001b[0;34m.\u001b[0m\u001b[0mformat\u001b[0m\u001b[0;34m(\u001b[0m\u001b[0;34m\"Horizontal\"\u001b[0m\u001b[0;34m,\u001b[0m \u001b[0;34m\"x\"\u001b[0m\u001b[0;34m)\u001b[0m\u001b[0;34m)\u001b[0m\u001b[0;34m\u001b[0m\u001b[0;34m\u001b[0m\u001b[0m\n\u001b[0m\u001b[1;32m   1329\u001b[0m         \u001b[0;32mreturn\u001b[0m \u001b[0;34m\"h\"\u001b[0m\u001b[0;34m\u001b[0m\u001b[0;34m\u001b[0m\u001b[0m\n\u001b[1;32m   1330\u001b[0m \u001b[0;34m\u001b[0m\u001b[0m\n",
            "\u001b[0;31mTypeError\u001b[0m: Horizontal orientation requires numeric `x` variable."
          ]
        },
        {
          "output_type": "display_data",
          "data": {
            "text/plain": [
              "<Figure size 720x432 with 0 Axes>"
            ]
          },
          "metadata": {}
        }
      ]
    },
    {
      "cell_type": "code",
      "source": [
        "x=df_user_review['Sentiment_Polarity']\n",
        "y=df_user_review['Sentiment_Subjectivity']\n",
        "plt.scatter(x,y,color='lightcoral')\n",
        "plt.show()"
      ],
      "metadata": {
        "colab": {
          "base_uri": "https://localhost:8080/",
          "height": 320
        },
        "id": "niJ9CEidKAPi",
        "outputId": "013685df-b674-4612-a294-5db9e7e17c96"
      },
      "execution_count": 25,
      "outputs": [
        {
          "output_type": "display_data",
          "data": {
            "image/png": "[encoded data removed]",
            "text/plain": [
              "<Figure size 720x360 with 1 Axes>"
            ]
          },
          "metadata": {
            "needs_background": "light"
          }
        }
      ]
    },
    {
      "cell_type": "code",
      "source": [
        "sns.displot(df_user_review['Sentiment_Subjectivity'],kde=True,color='darkblue',bins=20)\n",
        "plt.show()"
      ],
      "metadata": {
        "colab": {
          "base_uri": "https://localhost:8080/",
          "height": 369
        },
        "id": "GIF_x6uRMmJJ",
        "outputId": "d10d4de5-2d73-4aa7-d554-ff641394877b"
      },
      "execution_count": 26,
      "outputs": [
        {
          "output_type": "display_data",
          "data": {
            "image/png": "[encoded data removed]",
            "text/plain": [
              "<Figure size 360x360 with 1 Axes>"
            ]
          },
          "metadata": {
            "needs_background": "light"
          }
        }
      ]
    },
    {
      "cell_type": "code",
      "source": [
        "sns.displot(df_user_review['Sentiment_Polarity'],kde=True,color='darkblue',bins=20)\n",
        "plt.show()"
      ],
      "metadata": {
        "colab": {
          "base_uri": "https://localhost:8080/",
          "height": 369
        },
        "id": "N884GiTTqS_X",
        "outputId": "4d63743c-0fd3-40ac-fa71-2b25ba53d90f"
      },
      "execution_count": 27,
      "outputs": [
        {
          "output_type": "display_data",
          "data": {
            "image/png": "[encoded data removed]",
            "text/plain": [
              "<Figure size 360x360 with 1 Axes>"
            ]
          },
          "metadata": {
            "needs_background": "light"
          }
        }
      ]
    },
    {
      "cell_type": "code",
      "source": [
        ""
      ],
      "metadata": {
        "id": "0fCI-Amiuc7p"
      },
      "execution_count": null,
      "outputs": []
    }
  ]
}